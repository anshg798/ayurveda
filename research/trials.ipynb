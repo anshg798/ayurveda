{
 "cells": [
  {
   "cell_type": "code",
   "execution_count": 14,
   "id": "e6e9d30d5c9327f5",
   "metadata": {},
   "outputs": [
    {
     "name": "stdout",
     "output_type": "stream",
     "text": [
      "Ok\n"
     ]
    }
   ],
   "source": [
    "print(\"Ok\")"
   ]
  },
  {
   "cell_type": "code",
   "execution_count": 15,
   "id": "0800c2df",
   "metadata": {},
   "outputs": [
    {
     "data": {
      "text/plain": [
       "'c:\\\\Code\\\\End-to-End-Medical-Chatbot'"
      ]
     },
     "execution_count": 15,
     "metadata": {},
     "output_type": "execute_result"
    }
   ],
   "source": [
    "%pwd"
   ]
  },
  {
   "cell_type": "code",
   "execution_count": 16,
   "id": "0e9249dd",
   "metadata": {},
   "outputs": [],
   "source": [
    "import os\n",
    "os.chdir(\"../\")"
   ]
  },
  {
   "cell_type": "code",
   "execution_count": 17,
   "id": "f563129b",
   "metadata": {},
   "outputs": [
    {
     "data": {
      "text/plain": [
       "'c:\\\\Code'"
      ]
     },
     "execution_count": 17,
     "metadata": {},
     "output_type": "execute_result"
    }
   ],
   "source": [
    "%pwd"
   ]
  },
  {
   "cell_type": "code",
   "execution_count": 11,
   "id": "24b71793",
   "metadata": {},
   "outputs": [],
   "source": [
    "from langchain.document_loaders import PyPDFLoader, DirectoryLoader\n",
    "from langchain.text_splitter import RecursiveCharacterTextSplitter"
   ]
  },
  {
   "cell_type": "code",
   "execution_count": 12,
   "id": "dde8866c",
   "metadata": {},
   "outputs": [],
   "source": [
    "def load_pdf_file(data):\n",
    "    loader= DirectoryLoader(data, glob=\"*.pdf\", loader_cls=PyPDFLoader)\n",
    "    documents= loader.load()\n",
    "    return documents"
   ]
  },
  {
   "cell_type": "code",
   "execution_count": 13,
   "id": "7b0d6a45",
   "metadata": {},
   "outputs": [],
   "source": [
    "extracted_data=load_pdf_file(data=r\"C:\\Code\\new_projects\\AyurSutra_Panchakarma_first\\Data\")"
   ]
  },
  {
   "cell_type": "code",
   "execution_count": 10,
   "id": "29a7b52a",
   "metadata": {},
   "outputs": [
    {
     "name": "stderr",
     "output_type": "stream",
     "text": [
      "c:\\Users\\busin\\anaconda3\\envs\\ayurvedbot\\lib\\site-packages\\tqdm\\auto.py:21: TqdmWarning: IProgress not found. Please update jupyter and ipywidgets. See https://ipywidgets.readthedocs.io/en/stable/user_install.html\n",
      "  from .autonotebook import tqdm as notebook_tqdm\n"
     ]
    },
    {
     "name": "stdout",
     "output_type": "stream",
     "text": [
      "Warning: No languages specified, defaulting to English.\n"
     ]
    },
    {
     "ename": "PDFInfoNotInstalledError",
     "evalue": "Unable to get page count. Is poppler installed and in PATH?",
     "output_type": "error",
     "traceback": [
      "\u001b[1;31m---------------------------------------------------------------------------\u001b[0m",
      "\u001b[1;31mFileNotFoundError\u001b[0m                         Traceback (most recent call last)",
      "File \u001b[1;32mc:\\Users\\busin\\anaconda3\\envs\\ayurvedbot\\lib\\site-packages\\pdf2image\\pdf2image.py:581\u001b[0m, in \u001b[0;36mpdfinfo_from_path\u001b[1;34m(pdf_path, userpw, ownerpw, poppler_path, rawdates, timeout, first_page, last_page)\u001b[0m\n\u001b[0;32m    580\u001b[0m     env[\u001b[38;5;124m\"\u001b[39m\u001b[38;5;124mLD_LIBRARY_PATH\u001b[39m\u001b[38;5;124m\"\u001b[39m] \u001b[38;5;241m=\u001b[39m poppler_path \u001b[38;5;241m+\u001b[39m \u001b[38;5;124m\"\u001b[39m\u001b[38;5;124m:\u001b[39m\u001b[38;5;124m\"\u001b[39m \u001b[38;5;241m+\u001b[39m env\u001b[38;5;241m.\u001b[39mget(\u001b[38;5;124m\"\u001b[39m\u001b[38;5;124mLD_LIBRARY_PATH\u001b[39m\u001b[38;5;124m\"\u001b[39m, \u001b[38;5;124m\"\u001b[39m\u001b[38;5;124m\"\u001b[39m)\n\u001b[1;32m--> 581\u001b[0m proc \u001b[38;5;241m=\u001b[39m \u001b[43mPopen\u001b[49m\u001b[43m(\u001b[49m\u001b[43mcommand\u001b[49m\u001b[43m,\u001b[49m\u001b[43m \u001b[49m\u001b[43menv\u001b[49m\u001b[38;5;241;43m=\u001b[39;49m\u001b[43menv\u001b[49m\u001b[43m,\u001b[49m\u001b[43m \u001b[49m\u001b[43mstdout\u001b[49m\u001b[38;5;241;43m=\u001b[39;49m\u001b[43mPIPE\u001b[49m\u001b[43m,\u001b[49m\u001b[43m \u001b[49m\u001b[43mstderr\u001b[49m\u001b[38;5;241;43m=\u001b[39;49m\u001b[43mPIPE\u001b[49m\u001b[43m)\u001b[49m\n\u001b[0;32m    583\u001b[0m \u001b[38;5;28;01mtry\u001b[39;00m:\n",
      "File \u001b[1;32mc:\\Users\\busin\\anaconda3\\envs\\ayurvedbot\\lib\\subprocess.py:971\u001b[0m, in \u001b[0;36mPopen.__init__\u001b[1;34m(self, args, bufsize, executable, stdin, stdout, stderr, preexec_fn, close_fds, shell, cwd, env, universal_newlines, startupinfo, creationflags, restore_signals, start_new_session, pass_fds, user, group, extra_groups, encoding, errors, text, umask, pipesize)\u001b[0m\n\u001b[0;32m    968\u001b[0m             \u001b[38;5;28mself\u001b[39m\u001b[38;5;241m.\u001b[39mstderr \u001b[38;5;241m=\u001b[39m io\u001b[38;5;241m.\u001b[39mTextIOWrapper(\u001b[38;5;28mself\u001b[39m\u001b[38;5;241m.\u001b[39mstderr,\n\u001b[0;32m    969\u001b[0m                     encoding\u001b[38;5;241m=\u001b[39mencoding, errors\u001b[38;5;241m=\u001b[39merrors)\n\u001b[1;32m--> 971\u001b[0m     \u001b[38;5;28;43mself\u001b[39;49m\u001b[38;5;241;43m.\u001b[39;49m\u001b[43m_execute_child\u001b[49m\u001b[43m(\u001b[49m\u001b[43margs\u001b[49m\u001b[43m,\u001b[49m\u001b[43m \u001b[49m\u001b[43mexecutable\u001b[49m\u001b[43m,\u001b[49m\u001b[43m \u001b[49m\u001b[43mpreexec_fn\u001b[49m\u001b[43m,\u001b[49m\u001b[43m \u001b[49m\u001b[43mclose_fds\u001b[49m\u001b[43m,\u001b[49m\n\u001b[0;32m    972\u001b[0m \u001b[43m                        \u001b[49m\u001b[43mpass_fds\u001b[49m\u001b[43m,\u001b[49m\u001b[43m \u001b[49m\u001b[43mcwd\u001b[49m\u001b[43m,\u001b[49m\u001b[43m \u001b[49m\u001b[43menv\u001b[49m\u001b[43m,\u001b[49m\n\u001b[0;32m    973\u001b[0m \u001b[43m                        \u001b[49m\u001b[43mstartupinfo\u001b[49m\u001b[43m,\u001b[49m\u001b[43m \u001b[49m\u001b[43mcreationflags\u001b[49m\u001b[43m,\u001b[49m\u001b[43m \u001b[49m\u001b[43mshell\u001b[49m\u001b[43m,\u001b[49m\n\u001b[0;32m    974\u001b[0m \u001b[43m                        \u001b[49m\u001b[43mp2cread\u001b[49m\u001b[43m,\u001b[49m\u001b[43m \u001b[49m\u001b[43mp2cwrite\u001b[49m\u001b[43m,\u001b[49m\n\u001b[0;32m    975\u001b[0m \u001b[43m                        \u001b[49m\u001b[43mc2pread\u001b[49m\u001b[43m,\u001b[49m\u001b[43m \u001b[49m\u001b[43mc2pwrite\u001b[49m\u001b[43m,\u001b[49m\n\u001b[0;32m    976\u001b[0m \u001b[43m                        \u001b[49m\u001b[43merrread\u001b[49m\u001b[43m,\u001b[49m\u001b[43m \u001b[49m\u001b[43merrwrite\u001b[49m\u001b[43m,\u001b[49m\n\u001b[0;32m    977\u001b[0m \u001b[43m                        \u001b[49m\u001b[43mrestore_signals\u001b[49m\u001b[43m,\u001b[49m\n\u001b[0;32m    978\u001b[0m \u001b[43m                        \u001b[49m\u001b[43mgid\u001b[49m\u001b[43m,\u001b[49m\u001b[43m \u001b[49m\u001b[43mgids\u001b[49m\u001b[43m,\u001b[49m\u001b[43m \u001b[49m\u001b[43muid\u001b[49m\u001b[43m,\u001b[49m\u001b[43m \u001b[49m\u001b[43mumask\u001b[49m\u001b[43m,\u001b[49m\n\u001b[0;32m    979\u001b[0m \u001b[43m                        \u001b[49m\u001b[43mstart_new_session\u001b[49m\u001b[43m)\u001b[49m\n\u001b[0;32m    980\u001b[0m \u001b[38;5;28;01mexcept\u001b[39;00m:\n\u001b[0;32m    981\u001b[0m     \u001b[38;5;66;03m# Cleanup if the child failed starting.\u001b[39;00m\n",
      "File \u001b[1;32mc:\\Users\\busin\\anaconda3\\envs\\ayurvedbot\\lib\\subprocess.py:1456\u001b[0m, in \u001b[0;36mPopen._execute_child\u001b[1;34m(self, args, executable, preexec_fn, close_fds, pass_fds, cwd, env, startupinfo, creationflags, shell, p2cread, p2cwrite, c2pread, c2pwrite, errread, errwrite, unused_restore_signals, unused_gid, unused_gids, unused_uid, unused_umask, unused_start_new_session)\u001b[0m\n\u001b[0;32m   1455\u001b[0m \u001b[38;5;28;01mtry\u001b[39;00m:\n\u001b[1;32m-> 1456\u001b[0m     hp, ht, pid, tid \u001b[38;5;241m=\u001b[39m \u001b[43m_winapi\u001b[49m\u001b[38;5;241;43m.\u001b[39;49m\u001b[43mCreateProcess\u001b[49m\u001b[43m(\u001b[49m\u001b[43mexecutable\u001b[49m\u001b[43m,\u001b[49m\u001b[43m \u001b[49m\u001b[43margs\u001b[49m\u001b[43m,\u001b[49m\n\u001b[0;32m   1457\u001b[0m \u001b[43m                             \u001b[49m\u001b[38;5;66;43;03m# no special security\u001b[39;49;00m\n\u001b[0;32m   1458\u001b[0m \u001b[43m                             \u001b[49m\u001b[38;5;28;43;01mNone\u001b[39;49;00m\u001b[43m,\u001b[49m\u001b[43m \u001b[49m\u001b[38;5;28;43;01mNone\u001b[39;49;00m\u001b[43m,\u001b[49m\n\u001b[0;32m   1459\u001b[0m \u001b[43m                             \u001b[49m\u001b[38;5;28;43mint\u001b[39;49m\u001b[43m(\u001b[49m\u001b[38;5;129;43;01mnot\u001b[39;49;00m\u001b[43m \u001b[49m\u001b[43mclose_fds\u001b[49m\u001b[43m)\u001b[49m\u001b[43m,\u001b[49m\n\u001b[0;32m   1460\u001b[0m \u001b[43m                             \u001b[49m\u001b[43mcreationflags\u001b[49m\u001b[43m,\u001b[49m\n\u001b[0;32m   1461\u001b[0m \u001b[43m                             \u001b[49m\u001b[43menv\u001b[49m\u001b[43m,\u001b[49m\n\u001b[0;32m   1462\u001b[0m \u001b[43m                             \u001b[49m\u001b[43mcwd\u001b[49m\u001b[43m,\u001b[49m\n\u001b[0;32m   1463\u001b[0m \u001b[43m                             \u001b[49m\u001b[43mstartupinfo\u001b[49m\u001b[43m)\u001b[49m\n\u001b[0;32m   1464\u001b[0m \u001b[38;5;28;01mfinally\u001b[39;00m:\n\u001b[0;32m   1465\u001b[0m     \u001b[38;5;66;03m# Child is launched. Close the parent's copy of those pipe\u001b[39;00m\n\u001b[0;32m   1466\u001b[0m     \u001b[38;5;66;03m# handles that only the child should have open.  You need\u001b[39;00m\n\u001b[1;32m   (...)\u001b[0m\n\u001b[0;32m   1469\u001b[0m     \u001b[38;5;66;03m# pipe will not close when the child process exits and the\u001b[39;00m\n\u001b[0;32m   1470\u001b[0m     \u001b[38;5;66;03m# ReadFile will hang.\u001b[39;00m\n",
      "\u001b[1;31mFileNotFoundError\u001b[0m: [WinError 2] The system cannot find the file specified",
      "\nDuring handling of the above exception, another exception occurred:\n",
      "\u001b[1;31mPDFInfoNotInstalledError\u001b[0m                  Traceback (most recent call last)",
      "Cell \u001b[1;32mIn[10], line 7\u001b[0m\n\u001b[0;32m      1\u001b[0m \u001b[38;5;28;01mfrom\u001b[39;00m\u001b[38;5;250m \u001b[39m\u001b[38;5;21;01mlangchain_community\u001b[39;00m\u001b[38;5;21;01m.\u001b[39;00m\u001b[38;5;21;01mdocument_loaders\u001b[39;00m\u001b[38;5;250m \u001b[39m\u001b[38;5;28;01mimport\u001b[39;00m UnstructuredPDFLoader\n\u001b[0;32m      3\u001b[0m loader \u001b[38;5;241m=\u001b[39m UnstructuredPDFLoader(\n\u001b[0;32m      4\u001b[0m     file_path\u001b[38;5;241m=\u001b[39m\u001b[38;5;124m\"\u001b[39m\u001b[38;5;124m../Data/panchkarmaBook.pdf\u001b[39m\u001b[38;5;124m\"\u001b[39m,\n\u001b[0;32m      5\u001b[0m     mode\u001b[38;5;241m=\u001b[39m\u001b[38;5;124m\"\u001b[39m\u001b[38;5;124melements\u001b[39m\u001b[38;5;124m\"\u001b[39m   \u001b[38;5;66;03m# use elements for structured parsing\u001b[39;00m\n\u001b[0;32m      6\u001b[0m )\n\u001b[1;32m----> 7\u001b[0m docs \u001b[38;5;241m=\u001b[39m \u001b[43mloader\u001b[49m\u001b[38;5;241;43m.\u001b[39;49m\u001b[43mload\u001b[49m\u001b[43m(\u001b[49m\u001b[43m)\u001b[49m\n\u001b[0;32m      9\u001b[0m \u001b[38;5;28mprint\u001b[39m(docs[\u001b[38;5;241m0\u001b[39m]\u001b[38;5;241m.\u001b[39mpage_content[:\u001b[38;5;241m500\u001b[39m])\n",
      "File \u001b[1;32mc:\\Users\\busin\\anaconda3\\envs\\ayurvedbot\\lib\\site-packages\\langchain_core\\document_loaders\\base.py:32\u001b[0m, in \u001b[0;36mBaseLoader.load\u001b[1;34m(self)\u001b[0m\n\u001b[0;32m     30\u001b[0m \u001b[38;5;28;01mdef\u001b[39;00m\u001b[38;5;250m \u001b[39m\u001b[38;5;21mload\u001b[39m(\u001b[38;5;28mself\u001b[39m) \u001b[38;5;241m-\u001b[39m\u001b[38;5;241m>\u001b[39m \u001b[38;5;28mlist\u001b[39m[Document]:\n\u001b[0;32m     31\u001b[0m \u001b[38;5;250m    \u001b[39m\u001b[38;5;124;03m\"\"\"Load data into Document objects.\"\"\"\u001b[39;00m\n\u001b[1;32m---> 32\u001b[0m     \u001b[38;5;28;01mreturn\u001b[39;00m \u001b[38;5;28;43mlist\u001b[39;49m\u001b[43m(\u001b[49m\u001b[38;5;28;43mself\u001b[39;49m\u001b[38;5;241;43m.\u001b[39;49m\u001b[43mlazy_load\u001b[49m\u001b[43m(\u001b[49m\u001b[43m)\u001b[49m\u001b[43m)\u001b[49m\n",
      "File \u001b[1;32mc:\\Users\\busin\\anaconda3\\envs\\ayurvedbot\\lib\\site-packages\\langchain_community\\document_loaders\\unstructured.py:107\u001b[0m, in \u001b[0;36mUnstructuredBaseLoader.lazy_load\u001b[1;34m(self)\u001b[0m\n\u001b[0;32m    105\u001b[0m \u001b[38;5;28;01mdef\u001b[39;00m\u001b[38;5;250m \u001b[39m\u001b[38;5;21mlazy_load\u001b[39m(\u001b[38;5;28mself\u001b[39m) \u001b[38;5;241m-\u001b[39m\u001b[38;5;241m>\u001b[39m Iterator[Document]:\n\u001b[0;32m    106\u001b[0m \u001b[38;5;250m    \u001b[39m\u001b[38;5;124;03m\"\"\"Load file.\"\"\"\u001b[39;00m\n\u001b[1;32m--> 107\u001b[0m     elements \u001b[38;5;241m=\u001b[39m \u001b[38;5;28;43mself\u001b[39;49m\u001b[38;5;241;43m.\u001b[39;49m\u001b[43m_get_elements\u001b[49m\u001b[43m(\u001b[49m\u001b[43m)\u001b[49m\n\u001b[0;32m    108\u001b[0m     \u001b[38;5;28mself\u001b[39m\u001b[38;5;241m.\u001b[39m_post_process_elements(elements)\n\u001b[0;32m    109\u001b[0m     \u001b[38;5;28;01mif\u001b[39;00m \u001b[38;5;28mself\u001b[39m\u001b[38;5;241m.\u001b[39mmode \u001b[38;5;241m==\u001b[39m \u001b[38;5;124m\"\u001b[39m\u001b[38;5;124melements\u001b[39m\u001b[38;5;124m\"\u001b[39m:\n",
      "File \u001b[1;32mc:\\Users\\busin\\anaconda3\\envs\\ayurvedbot\\lib\\site-packages\\langchain_community\\document_loaders\\pdf.py:94\u001b[0m, in \u001b[0;36mUnstructuredPDFLoader._get_elements\u001b[1;34m(self)\u001b[0m\n\u001b[0;32m     91\u001b[0m \u001b[38;5;28;01mdef\u001b[39;00m\u001b[38;5;250m \u001b[39m\u001b[38;5;21m_get_elements\u001b[39m(\u001b[38;5;28mself\u001b[39m) \u001b[38;5;241m-\u001b[39m\u001b[38;5;241m>\u001b[39m \u001b[38;5;28mlist\u001b[39m:\n\u001b[0;32m     92\u001b[0m     \u001b[38;5;28;01mfrom\u001b[39;00m\u001b[38;5;250m \u001b[39m\u001b[38;5;21;01munstructured\u001b[39;00m\u001b[38;5;21;01m.\u001b[39;00m\u001b[38;5;21;01mpartition\u001b[39;00m\u001b[38;5;21;01m.\u001b[39;00m\u001b[38;5;21;01mpdf\u001b[39;00m\u001b[38;5;250m \u001b[39m\u001b[38;5;28;01mimport\u001b[39;00m partition_pdf\n\u001b[1;32m---> 94\u001b[0m     \u001b[38;5;28;01mreturn\u001b[39;00m partition_pdf(filename\u001b[38;5;241m=\u001b[39m\u001b[38;5;28mself\u001b[39m\u001b[38;5;241m.\u001b[39mfile_path, \u001b[38;5;241m*\u001b[39m\u001b[38;5;241m*\u001b[39m\u001b[38;5;28mself\u001b[39m\u001b[38;5;241m.\u001b[39munstructured_kwargs)\n",
      "File \u001b[1;32mc:\\Users\\busin\\anaconda3\\envs\\ayurvedbot\\lib\\site-packages\\unstructured\\partition\\common\\metadata.py:162\u001b[0m, in \u001b[0;36mapply_metadata.<locals>.decorator.<locals>.wrapper\u001b[1;34m(*args, **kwargs)\u001b[0m\n\u001b[0;32m    160\u001b[0m \u001b[38;5;129m@functools\u001b[39m\u001b[38;5;241m.\u001b[39mwraps(func)\n\u001b[0;32m    161\u001b[0m \u001b[38;5;28;01mdef\u001b[39;00m\u001b[38;5;250m \u001b[39m\u001b[38;5;21mwrapper\u001b[39m(\u001b[38;5;241m*\u001b[39margs: _P\u001b[38;5;241m.\u001b[39margs, \u001b[38;5;241m*\u001b[39m\u001b[38;5;241m*\u001b[39mkwargs: _P\u001b[38;5;241m.\u001b[39mkwargs) \u001b[38;5;241m-\u001b[39m\u001b[38;5;241m>\u001b[39m \u001b[38;5;28mlist\u001b[39m[Element]:\n\u001b[1;32m--> 162\u001b[0m     elements \u001b[38;5;241m=\u001b[39m func(\u001b[38;5;241m*\u001b[39margs, \u001b[38;5;241m*\u001b[39m\u001b[38;5;241m*\u001b[39mkwargs)\n\u001b[0;32m    163\u001b[0m     call_args \u001b[38;5;241m=\u001b[39m get_call_args_applying_defaults(func, \u001b[38;5;241m*\u001b[39margs, \u001b[38;5;241m*\u001b[39m\u001b[38;5;241m*\u001b[39mkwargs)\n\u001b[0;32m    165\u001b[0m     \u001b[38;5;66;03m# ------------------------------------------------------------------------------------\u001b[39;00m\n\u001b[0;32m    166\u001b[0m     \u001b[38;5;66;03m# unique-ify elements\u001b[39;00m\n\u001b[0;32m    167\u001b[0m     \u001b[38;5;66;03m# ------------------------------------------------------------------------------------\u001b[39;00m\n\u001b[1;32m   (...)\u001b[0m\n\u001b[0;32m    172\u001b[0m     \u001b[38;5;66;03m# instance).\u001b[39;00m\n\u001b[0;32m    173\u001b[0m     \u001b[38;5;66;03m# ------------------------------------------------------------------------------------\u001b[39;00m\n",
      "File \u001b[1;32mc:\\Users\\busin\\anaconda3\\envs\\ayurvedbot\\lib\\site-packages\\unstructured\\chunking\\dispatch.py:74\u001b[0m, in \u001b[0;36madd_chunking_strategy.<locals>.wrapper\u001b[1;34m(*args, **kwargs)\u001b[0m\n\u001b[0;32m     71\u001b[0m \u001b[38;5;250m\u001b[39m\u001b[38;5;124;03m\"\"\"The decorated function is replaced with this one.\"\"\"\u001b[39;00m\n\u001b[0;32m     73\u001b[0m \u001b[38;5;66;03m# -- call the partitioning function to get the elements --\u001b[39;00m\n\u001b[1;32m---> 74\u001b[0m elements \u001b[38;5;241m=\u001b[39m func(\u001b[38;5;241m*\u001b[39margs, \u001b[38;5;241m*\u001b[39m\u001b[38;5;241m*\u001b[39mkwargs)\n\u001b[0;32m     76\u001b[0m \u001b[38;5;66;03m# -- look for a chunking-strategy argument --\u001b[39;00m\n\u001b[0;32m     77\u001b[0m call_args \u001b[38;5;241m=\u001b[39m get_call_args_applying_defaults(func, \u001b[38;5;241m*\u001b[39margs, \u001b[38;5;241m*\u001b[39m\u001b[38;5;241m*\u001b[39mkwargs)\n",
      "File \u001b[1;32mc:\\Users\\busin\\anaconda3\\envs\\ayurvedbot\\lib\\site-packages\\unstructured\\partition\\pdf.py:225\u001b[0m, in \u001b[0;36mpartition_pdf\u001b[1;34m(filename, file, include_page_breaks, strategy, infer_table_structure, ocr_languages, languages, detect_language_per_element, metadata_last_modified, chunking_strategy, hi_res_model_name, extract_images_in_pdf, extract_image_block_types, extract_image_block_output_dir, extract_image_block_to_payload, starting_page_number, extract_forms, form_extraction_skip_tables, password, pdfminer_line_margin, pdfminer_char_margin, pdfminer_line_overlap, pdfminer_word_margin, **kwargs)\u001b[0m\n\u001b[0;32m    222\u001b[0m exactly_one(filename\u001b[38;5;241m=\u001b[39mfilename, file\u001b[38;5;241m=\u001b[39mfile)\n\u001b[0;32m    224\u001b[0m languages \u001b[38;5;241m=\u001b[39m check_language_args(languages \u001b[38;5;129;01mor\u001b[39;00m [], ocr_languages)\n\u001b[1;32m--> 225\u001b[0m \u001b[38;5;28;01mreturn\u001b[39;00m partition_pdf_or_image(\n\u001b[0;32m    226\u001b[0m     filename\u001b[38;5;241m=\u001b[39mfilename,\n\u001b[0;32m    227\u001b[0m     file\u001b[38;5;241m=\u001b[39mfile,\n\u001b[0;32m    228\u001b[0m     include_page_breaks\u001b[38;5;241m=\u001b[39minclude_page_breaks,\n\u001b[0;32m    229\u001b[0m     strategy\u001b[38;5;241m=\u001b[39mstrategy,\n\u001b[0;32m    230\u001b[0m     infer_table_structure\u001b[38;5;241m=\u001b[39minfer_table_structure,\n\u001b[0;32m    231\u001b[0m     languages\u001b[38;5;241m=\u001b[39mlanguages,\n\u001b[0;32m    232\u001b[0m     detect_language_per_element\u001b[38;5;241m=\u001b[39mdetect_language_per_element,\n\u001b[0;32m    233\u001b[0m     metadata_last_modified\u001b[38;5;241m=\u001b[39mmetadata_last_modified,\n\u001b[0;32m    234\u001b[0m     hi_res_model_name\u001b[38;5;241m=\u001b[39mhi_res_model_name,\n\u001b[0;32m    235\u001b[0m     extract_images_in_pdf\u001b[38;5;241m=\u001b[39mextract_images_in_pdf,\n\u001b[0;32m    236\u001b[0m     extract_image_block_types\u001b[38;5;241m=\u001b[39mextract_image_block_types,\n\u001b[0;32m    237\u001b[0m     extract_image_block_output_dir\u001b[38;5;241m=\u001b[39mextract_image_block_output_dir,\n\u001b[0;32m    238\u001b[0m     extract_image_block_to_payload\u001b[38;5;241m=\u001b[39mextract_image_block_to_payload,\n\u001b[0;32m    239\u001b[0m     starting_page_number\u001b[38;5;241m=\u001b[39mstarting_page_number,\n\u001b[0;32m    240\u001b[0m     extract_forms\u001b[38;5;241m=\u001b[39mextract_forms,\n\u001b[0;32m    241\u001b[0m     form_extraction_skip_tables\u001b[38;5;241m=\u001b[39mform_extraction_skip_tables,\n\u001b[0;32m    242\u001b[0m     password\u001b[38;5;241m=\u001b[39mpassword,\n\u001b[0;32m    243\u001b[0m     pdfminer_line_margin\u001b[38;5;241m=\u001b[39mpdfminer_line_margin,\n\u001b[0;32m    244\u001b[0m     pdfminer_char_margin\u001b[38;5;241m=\u001b[39mpdfminer_char_margin,\n\u001b[0;32m    245\u001b[0m     pdfminer_line_overlap\u001b[38;5;241m=\u001b[39mpdfminer_line_overlap,\n\u001b[0;32m    246\u001b[0m     pdfminer_word_margin\u001b[38;5;241m=\u001b[39mpdfminer_word_margin,\n\u001b[0;32m    247\u001b[0m     \u001b[38;5;241m*\u001b[39m\u001b[38;5;241m*\u001b[39mkwargs,\n\u001b[0;32m    248\u001b[0m )\n",
      "File \u001b[1;32mc:\\Users\\busin\\anaconda3\\envs\\ayurvedbot\\lib\\site-packages\\unstructured\\partition\\pdf.py:381\u001b[0m, in \u001b[0;36mpartition_pdf_or_image\u001b[1;34m(filename, file, is_image, include_page_breaks, strategy, infer_table_structure, languages, detect_language_per_element, metadata_last_modified, hi_res_model_name, extract_images_in_pdf, extract_image_block_types, extract_image_block_output_dir, extract_image_block_to_payload, starting_page_number, extract_forms, form_extraction_skip_tables, password, pdfminer_line_margin, pdfminer_char_margin, pdfminer_line_overlap, pdfminer_word_margin, ocr_agent, table_ocr_agent, **kwargs)\u001b[0m\n\u001b[0;32m    378\u001b[0m \u001b[38;5;28;01melif\u001b[39;00m strategy \u001b[38;5;241m==\u001b[39m PartitionStrategy\u001b[38;5;241m.\u001b[39mOCR_ONLY:\n\u001b[0;32m    379\u001b[0m     \u001b[38;5;66;03m# NOTE(robinson): Catches file conversion warnings when running with PDFs\u001b[39;00m\n\u001b[0;32m    380\u001b[0m     \u001b[38;5;28;01mwith\u001b[39;00m warnings\u001b[38;5;241m.\u001b[39mcatch_warnings():\n\u001b[1;32m--> 381\u001b[0m         elements \u001b[38;5;241m=\u001b[39m _partition_pdf_or_image_with_ocr(\n\u001b[0;32m    382\u001b[0m             filename\u001b[38;5;241m=\u001b[39mfilename,\n\u001b[0;32m    383\u001b[0m             file\u001b[38;5;241m=\u001b[39mfile,\n\u001b[0;32m    384\u001b[0m             include_page_breaks\u001b[38;5;241m=\u001b[39minclude_page_breaks,\n\u001b[0;32m    385\u001b[0m             languages\u001b[38;5;241m=\u001b[39mlanguages,\n\u001b[0;32m    386\u001b[0m             ocr_languages\u001b[38;5;241m=\u001b[39mocr_languages,\n\u001b[0;32m    387\u001b[0m             is_image\u001b[38;5;241m=\u001b[39mis_image,\n\u001b[0;32m    388\u001b[0m             metadata_last_modified\u001b[38;5;241m=\u001b[39mmetadata_last_modified \u001b[38;5;129;01mor\u001b[39;00m last_modified,\n\u001b[0;32m    389\u001b[0m             starting_page_number\u001b[38;5;241m=\u001b[39mstarting_page_number,\n\u001b[0;32m    390\u001b[0m             password\u001b[38;5;241m=\u001b[39mpassword,\n\u001b[0;32m    391\u001b[0m             \u001b[38;5;241m*\u001b[39m\u001b[38;5;241m*\u001b[39mkwargs,\n\u001b[0;32m    392\u001b[0m         )\n\u001b[0;32m    393\u001b[0m         out_elements \u001b[38;5;241m=\u001b[39m _process_uncategorized_text_elements(elements)\n\u001b[0;32m    395\u001b[0m \u001b[38;5;28;01mreturn\u001b[39;00m out_elements\n",
      "File \u001b[1;32mc:\\Users\\busin\\anaconda3\\envs\\ayurvedbot\\lib\\site-packages\\unstructured\\partition\\pdf.py:933\u001b[0m, in \u001b[0;36m_partition_pdf_or_image_with_ocr\u001b[1;34m(filename, file, include_page_breaks, languages, ocr_languages, is_image, metadata_last_modified, starting_page_number, password, **kwargs)\u001b[0m\n\u001b[0;32m    931\u001b[0m         elements\u001b[38;5;241m.\u001b[39mextend(page_elements)\n\u001b[0;32m    932\u001b[0m \u001b[38;5;28;01melse\u001b[39;00m:\n\u001b[1;32m--> 933\u001b[0m     \u001b[38;5;28;01mfor\u001b[39;00m page_number, image \u001b[38;5;129;01min\u001b[39;00m \u001b[38;5;28menumerate\u001b[39m(\n\u001b[0;32m    934\u001b[0m         convert_pdf_to_images(filename, file, password\u001b[38;5;241m=\u001b[39mpassword), start\u001b[38;5;241m=\u001b[39mstarting_page_number\n\u001b[0;32m    935\u001b[0m     ):\n\u001b[0;32m    936\u001b[0m         page_elements \u001b[38;5;241m=\u001b[39m _partition_pdf_or_image_with_ocr_from_image(\n\u001b[0;32m    937\u001b[0m             image\u001b[38;5;241m=\u001b[39mimage,\n\u001b[0;32m    938\u001b[0m             languages\u001b[38;5;241m=\u001b[39mlanguages,\n\u001b[1;32m   (...)\u001b[0m\n\u001b[0;32m    943\u001b[0m             \u001b[38;5;241m*\u001b[39m\u001b[38;5;241m*\u001b[39mkwargs,\n\u001b[0;32m    944\u001b[0m         )\n\u001b[0;32m    945\u001b[0m         elements\u001b[38;5;241m.\u001b[39mextend(page_elements)\n",
      "File \u001b[1;32mc:\\Users\\busin\\anaconda3\\envs\\ayurvedbot\\lib\\site-packages\\unstructured\\partition\\pdf_image\\pdf_image_utils.py:412\u001b[0m, in \u001b[0;36mconvert_pdf_to_images\u001b[1;34m(filename, file, chunk_size, password)\u001b[0m\n\u001b[0;32m    410\u001b[0m \u001b[38;5;28;01melse\u001b[39;00m:\n\u001b[0;32m    411\u001b[0m     f_bytes \u001b[38;5;241m=\u001b[39m \u001b[38;5;28;01mNone\u001b[39;00m\n\u001b[1;32m--> 412\u001b[0m     info \u001b[38;5;241m=\u001b[39m \u001b[43mpdf2image\u001b[49m\u001b[38;5;241;43m.\u001b[39;49m\u001b[43mpdfinfo_from_path\u001b[49m\u001b[43m(\u001b[49m\u001b[43mfilename\u001b[49m\u001b[43m,\u001b[49m\u001b[43m \u001b[49m\u001b[43muserpw\u001b[49m\u001b[38;5;241;43m=\u001b[39;49m\u001b[43mpassword\u001b[49m\u001b[43m)\u001b[49m\n\u001b[0;32m    414\u001b[0m total_pages \u001b[38;5;241m=\u001b[39m info[\u001b[38;5;124m\"\u001b[39m\u001b[38;5;124mPages\u001b[39m\u001b[38;5;124m\"\u001b[39m]\n\u001b[0;32m    415\u001b[0m \u001b[38;5;28;01mfor\u001b[39;00m start_page \u001b[38;5;129;01min\u001b[39;00m \u001b[38;5;28mrange\u001b[39m(\u001b[38;5;241m1\u001b[39m, total_pages \u001b[38;5;241m+\u001b[39m \u001b[38;5;241m1\u001b[39m, chunk_size):\n",
      "File \u001b[1;32mc:\\Users\\busin\\anaconda3\\envs\\ayurvedbot\\lib\\site-packages\\pdf2image\\pdf2image.py:607\u001b[0m, in \u001b[0;36mpdfinfo_from_path\u001b[1;34m(pdf_path, userpw, ownerpw, poppler_path, rawdates, timeout, first_page, last_page)\u001b[0m\n\u001b[0;32m    604\u001b[0m     \u001b[38;5;28;01mreturn\u001b[39;00m d\n\u001b[0;32m    606\u001b[0m \u001b[38;5;28;01mexcept\u001b[39;00m \u001b[38;5;167;01mOSError\u001b[39;00m:\n\u001b[1;32m--> 607\u001b[0m     \u001b[38;5;28;01mraise\u001b[39;00m PDFInfoNotInstalledError(\n\u001b[0;32m    608\u001b[0m         \u001b[38;5;124m\"\u001b[39m\u001b[38;5;124mUnable to get page count. Is poppler installed and in PATH?\u001b[39m\u001b[38;5;124m\"\u001b[39m\n\u001b[0;32m    609\u001b[0m     )\n\u001b[0;32m    610\u001b[0m \u001b[38;5;28;01mexcept\u001b[39;00m \u001b[38;5;167;01mValueError\u001b[39;00m:\n\u001b[0;32m    611\u001b[0m     \u001b[38;5;28;01mraise\u001b[39;00m PDFPageCountError(\n\u001b[0;32m    612\u001b[0m         \u001b[38;5;124mf\u001b[39m\u001b[38;5;124m\"\u001b[39m\u001b[38;5;124mUnable to get page count.\u001b[39m\u001b[38;5;130;01m\\n\u001b[39;00m\u001b[38;5;132;01m{\u001b[39;00merr\u001b[38;5;241m.\u001b[39mdecode(\u001b[38;5;124m'\u001b[39m\u001b[38;5;124mutf8\u001b[39m\u001b[38;5;124m'\u001b[39m,\u001b[38;5;250m \u001b[39m\u001b[38;5;124m'\u001b[39m\u001b[38;5;124mignore\u001b[39m\u001b[38;5;124m'\u001b[39m)\u001b[38;5;132;01m}\u001b[39;00m\u001b[38;5;124m\"\u001b[39m\n\u001b[0;32m    613\u001b[0m     )\n",
      "\u001b[1;31mPDFInfoNotInstalledError\u001b[0m: Unable to get page count. Is poppler installed and in PATH?"
     ]
    }
   ],
   "source": [
    "from langchain_community.document_loaders import UnstructuredPDFLoader\n",
    "\n",
    "loader = UnstructuredPDFLoader(\n",
    "    file_path=\"../Data/panchkarmaBook.pdf\",\n",
    "    mode=\"elements\"   # use elements for structured parsing\n",
    ")\n",
    "docs = loader.load()\n",
    "\n",
    "print(docs[0].page_content[:500])"
   ]
  },
  {
   "cell_type": "code",
   "execution_count": 8,
   "id": "1281181a",
   "metadata": {},
   "outputs": [
    {
     "ename": "ModuleNotFoundError",
     "evalue": "No module named 'pdfminer'",
     "output_type": "error",
     "traceback": [
      "\u001b[1;31m---------------------------------------------------------------------------\u001b[0m",
      "\u001b[1;31mModuleNotFoundError\u001b[0m                       Traceback (most recent call last)",
      "Cell \u001b[1;32mIn[8], line 4\u001b[0m\n\u001b[0;32m      1\u001b[0m \u001b[38;5;28;01mfrom\u001b[39;00m\u001b[38;5;250m \u001b[39m\u001b[38;5;21;01mlangchain_community\u001b[39;00m\u001b[38;5;21;01m.\u001b[39;00m\u001b[38;5;21;01mdocument_loaders\u001b[39;00m\u001b[38;5;250m \u001b[39m\u001b[38;5;28;01mimport\u001b[39;00m UnstructuredPDFLoader\n\u001b[0;32m      3\u001b[0m loader \u001b[38;5;241m=\u001b[39m UnstructuredPDFLoader(\u001b[38;5;124m\"\u001b[39m\u001b[38;5;124m../Data/panchkarmaBook.pdf\u001b[39m\u001b[38;5;124m\"\u001b[39m, strategy\u001b[38;5;241m=\u001b[39m\u001b[38;5;124m\"\u001b[39m\u001b[38;5;124mocr_only\u001b[39m\u001b[38;5;124m\"\u001b[39m)\n\u001b[1;32m----> 4\u001b[0m docs \u001b[38;5;241m=\u001b[39m \u001b[43mloader\u001b[49m\u001b[38;5;241;43m.\u001b[39;49m\u001b[43mload\u001b[49m\u001b[43m(\u001b[49m\u001b[43m)\u001b[49m\n\u001b[0;32m      6\u001b[0m \u001b[38;5;28mprint\u001b[39m(docs[\u001b[38;5;241m0\u001b[39m]\u001b[38;5;241m.\u001b[39mpage_content[:\u001b[38;5;241m500\u001b[39m])\n",
      "File \u001b[1;32mc:\\Users\\busin\\anaconda3\\envs\\ayurvedbot\\lib\\site-packages\\langchain_core\\document_loaders\\base.py:32\u001b[0m, in \u001b[0;36mBaseLoader.load\u001b[1;34m(self)\u001b[0m\n\u001b[0;32m     30\u001b[0m \u001b[38;5;28;01mdef\u001b[39;00m\u001b[38;5;250m \u001b[39m\u001b[38;5;21mload\u001b[39m(\u001b[38;5;28mself\u001b[39m) \u001b[38;5;241m-\u001b[39m\u001b[38;5;241m>\u001b[39m \u001b[38;5;28mlist\u001b[39m[Document]:\n\u001b[0;32m     31\u001b[0m \u001b[38;5;250m    \u001b[39m\u001b[38;5;124;03m\"\"\"Load data into Document objects.\"\"\"\u001b[39;00m\n\u001b[1;32m---> 32\u001b[0m     \u001b[38;5;28;01mreturn\u001b[39;00m \u001b[38;5;28;43mlist\u001b[39;49m\u001b[43m(\u001b[49m\u001b[38;5;28;43mself\u001b[39;49m\u001b[38;5;241;43m.\u001b[39;49m\u001b[43mlazy_load\u001b[49m\u001b[43m(\u001b[49m\u001b[43m)\u001b[49m\u001b[43m)\u001b[49m\n",
      "File \u001b[1;32mc:\\Users\\busin\\anaconda3\\envs\\ayurvedbot\\lib\\site-packages\\langchain_community\\document_loaders\\unstructured.py:107\u001b[0m, in \u001b[0;36mUnstructuredBaseLoader.lazy_load\u001b[1;34m(self)\u001b[0m\n\u001b[0;32m    105\u001b[0m \u001b[38;5;28;01mdef\u001b[39;00m\u001b[38;5;250m \u001b[39m\u001b[38;5;21mlazy_load\u001b[39m(\u001b[38;5;28mself\u001b[39m) \u001b[38;5;241m-\u001b[39m\u001b[38;5;241m>\u001b[39m Iterator[Document]:\n\u001b[0;32m    106\u001b[0m \u001b[38;5;250m    \u001b[39m\u001b[38;5;124;03m\"\"\"Load file.\"\"\"\u001b[39;00m\n\u001b[1;32m--> 107\u001b[0m     elements \u001b[38;5;241m=\u001b[39m \u001b[38;5;28;43mself\u001b[39;49m\u001b[38;5;241;43m.\u001b[39;49m\u001b[43m_get_elements\u001b[49m\u001b[43m(\u001b[49m\u001b[43m)\u001b[49m\n\u001b[0;32m    108\u001b[0m     \u001b[38;5;28mself\u001b[39m\u001b[38;5;241m.\u001b[39m_post_process_elements(elements)\n\u001b[0;32m    109\u001b[0m     \u001b[38;5;28;01mif\u001b[39;00m \u001b[38;5;28mself\u001b[39m\u001b[38;5;241m.\u001b[39mmode \u001b[38;5;241m==\u001b[39m \u001b[38;5;124m\"\u001b[39m\u001b[38;5;124melements\u001b[39m\u001b[38;5;124m\"\u001b[39m:\n",
      "File \u001b[1;32mc:\\Users\\busin\\anaconda3\\envs\\ayurvedbot\\lib\\site-packages\\langchain_community\\document_loaders\\pdf.py:92\u001b[0m, in \u001b[0;36mUnstructuredPDFLoader._get_elements\u001b[1;34m(self)\u001b[0m\n\u001b[0;32m     91\u001b[0m \u001b[38;5;28;01mdef\u001b[39;00m\u001b[38;5;250m \u001b[39m\u001b[38;5;21m_get_elements\u001b[39m(\u001b[38;5;28mself\u001b[39m) \u001b[38;5;241m-\u001b[39m\u001b[38;5;241m>\u001b[39m \u001b[38;5;28mlist\u001b[39m:\n\u001b[1;32m---> 92\u001b[0m     \u001b[38;5;28;01mfrom\u001b[39;00m\u001b[38;5;250m \u001b[39m\u001b[38;5;21;01munstructured\u001b[39;00m\u001b[38;5;21;01m.\u001b[39;00m\u001b[38;5;21;01mpartition\u001b[39;00m\u001b[38;5;21;01m.\u001b[39;00m\u001b[38;5;21;01mpdf\u001b[39;00m\u001b[38;5;250m \u001b[39m\u001b[38;5;28;01mimport\u001b[39;00m partition_pdf\n\u001b[0;32m     94\u001b[0m     \u001b[38;5;28;01mreturn\u001b[39;00m partition_pdf(filename\u001b[38;5;241m=\u001b[39m\u001b[38;5;28mself\u001b[39m\u001b[38;5;241m.\u001b[39mfile_path, \u001b[38;5;241m*\u001b[39m\u001b[38;5;241m*\u001b[39m\u001b[38;5;28mself\u001b[39m\u001b[38;5;241m.\u001b[39munstructured_kwargs)\n",
      "File \u001b[1;32mc:\\Users\\busin\\anaconda3\\envs\\ayurvedbot\\lib\\site-packages\\unstructured\\partition\\pdf.py:14\u001b[0m\n\u001b[0;32m     12\u001b[0m \u001b[38;5;28;01mimport\u001b[39;00m\u001b[38;5;250m \u001b[39m\u001b[38;5;21;01mnumpy\u001b[39;00m\u001b[38;5;250m \u001b[39m\u001b[38;5;28;01mas\u001b[39;00m\u001b[38;5;250m \u001b[39m\u001b[38;5;21;01mnp\u001b[39;00m\n\u001b[0;32m     13\u001b[0m \u001b[38;5;28;01mimport\u001b[39;00m\u001b[38;5;250m \u001b[39m\u001b[38;5;21;01mwrapt\u001b[39;00m\n\u001b[1;32m---> 14\u001b[0m \u001b[38;5;28;01mfrom\u001b[39;00m\u001b[38;5;250m \u001b[39m\u001b[38;5;21;01mpdfminer\u001b[39;00m\u001b[38;5;21;01m.\u001b[39;00m\u001b[38;5;21;01mlayout\u001b[39;00m\u001b[38;5;250m \u001b[39m\u001b[38;5;28;01mimport\u001b[39;00m LTContainer, LTImage, LTItem, LTTextBox\n\u001b[0;32m     15\u001b[0m \u001b[38;5;28;01mfrom\u001b[39;00m\u001b[38;5;250m \u001b[39m\u001b[38;5;21;01mpdfminer\u001b[39;00m\u001b[38;5;21;01m.\u001b[39;00m\u001b[38;5;21;01mutils\u001b[39;00m\u001b[38;5;250m \u001b[39m\u001b[38;5;28;01mimport\u001b[39;00m open_filename\n\u001b[0;32m     16\u001b[0m \u001b[38;5;28;01mfrom\u001b[39;00m\u001b[38;5;250m \u001b[39m\u001b[38;5;21;01mpi_heif\u001b[39;00m\u001b[38;5;250m \u001b[39m\u001b[38;5;28;01mimport\u001b[39;00m register_heif_opener\n",
      "\u001b[1;31mModuleNotFoundError\u001b[0m: No module named 'pdfminer'"
     ]
    }
   ],
   "source": [
    "from langchain_community.document_loaders import UnstructuredPDFLoader\n",
    "\n",
    "loader = UnstructuredPDFLoader(\"../Data/panchkarmaBook.pdf\", strategy=\"ocr_only\")\n",
    "docs = loader.load()\n",
    "\n",
    "print(docs[0].page_content[:500])\n"
   ]
  },
  {
   "cell_type": "markdown",
   "id": "6d8b2a83",
   "metadata": {},
   "source": [
    "from langchain_community.document_loaders import UnstructuredPDFLoader\n",
    "\n",
    "loader = UnstructuredPDFLoader(\"../Data/panchkarmaBook.pdf\", strategy=\"ocr_only\")\n",
    "docs = loader.load()\n",
    "\n",
    "print(docs[0].page_content[:500])\n"
   ]
  },
  {
   "cell_type": "code",
   "execution_count": 14,
   "id": "48a3eac1",
   "metadata": {},
   "outputs": [
    {
     "data": {
      "text/plain": [
       "[Document(metadata={'producer': 'pdfmake', 'creator': 'pdfmake', 'creationdate': '2025-09-06T08:11:57+00:00', 'source': 'C:\\\\Code\\\\new_projects\\\\AyurSutra_Panchakarma_first\\\\Data\\\\pc1.pdf', 'total_pages': 18, 'page': 0, 'page_label': '1'}, page_content='& PRACTICAL HANDBOOK OF PANCHAKARMA PROCEDURES CHIEF EDITOR Prof. G.S. Lavekar \\nDirector General Central Council for Research in Ayurveda and Siddha, New Delhi \\nCONTRIBUTORS Dr. T.V. Menon Ex. Assistant Director (Ayurveda) Incharge Central Research \\nInstitute (Ayurveda), Cheruthuruthy Dr. (Mrs.) Bharti Assistant Director (Ayurveda) Central \\nResearch Institute (Ayurveda), New Delhi CENTRAL COUNCIL FOR RESEARCH IN AYURVEDA \\nAND SIDDHA Department of AYUSH, Ministry of Health & Family Welfare Government of India \\nNew Delhi - 110058 www.ccras.nic.in 2009 \\x00\\n\\x00\\nA PRACTICAL HANDBOOK OF PANCHAKARMA PROCEDURES EDITORS Dr. M.M. Padhi Deputy \\nDirector (Technical), CCRAS, New Delhi Dr. Sharda Ota Research Officer (Ayurveda), CCRAS, New \\nDelhi Dr. M.M. Sharma Research Officer (Ayurveda), CCRAS, New Delhi Dr. B. Venkateshwarlu \\nResearch Officer (Ayurveda), CCRAS, New Delhi REVIEWED BY Dr. Bheema Bhat HOD, Ayurveda \\nDepartment, Holy Family Hospital, New Delhi Vd. R.S. Sharma Asso. Professor & Head, \\nDepartment of Panchakarma, N.I.A., Jaipur Dr. Nandini K. Kumar Consultant, Division of Basic \\nMedical Sciences, ICMR, New Delhi Dr. S.C. Mahapatra Professor, Department of Physiology, \\nAIMS, New Delhi il \\x00\\nPublisher Central Council for Research in Ayurveda and Siddha Department of AYUSH, Ministry of \\nHealth and Family Welfare Government of India J.L.N.B.C.E.H.Anusandhan Bhavan, 61-65, \\nInstitutional Area Opp. D-Block, Janakpuri, New Delhi — 110058 E-mail: ccras_dirl @nic.in, \\nWebsite: www.ccras.nic.in © Central Council for Research in Ayurveda and Siddha, New Delhi \\n2009 Cover Photograph : Shirodhara & Nasya Cover Page Designed by : Dr. M.M. Sharma & Mr. \\nUpendra Singh Printed at: Pearl Offset Press Pvt. Ltd., 5/33, Kirti Nagar Industrial Area, New Delhi \\n- 110 015 Tel. 011-25159312, 41424700, 41424800 IV \\x00\\nPREFACE Practical handbook of Panchakarma Procedures is a brief knowledge of various \\nPanchakarma procedures followed in different parts of the country. It also includes some of the \\ncommon therapeutic procedures popular in Kerala. Panchakarma therapy is an integral part of \\nAyurvedic treatment. All the learned scholars of Ayurveda since beginning to the present era have \\nhighly appreciated the importance and therapeutic efficacy of Panchakarma therapy. The \\ndescription of Panchakarma is found to be popular in Ayurvedic classics viz Charaka Samhita, \\nSushruta Samhita, Ashtanga Hridayam, Ashtanga Samgraha, Sharngadhara and Vanga Sena \\netc.Classical Panchakarma includes Vamana, Virechana, Anuvasana Basti, Niruha Basti and \\nNasya, which require more attention and care from the physician. The procedures are also time \\ntaking. Due to these facts some of the physicians developed easier techniques with better \\ntherapeutic effects. These procedures were popular in India sometime ago but now they are \\nbecoming popular all over the world. This book deals with the commonly practiced, popular \\nPanchakarma procedures minutely in simplified form for the benefit of students and Ayurvedic \\npractitioners. It has been tried to give the material requirements, names and doses of commonly \\nused medicines with administration time, indications and contraindications with necessary \\nphotographs. The assessment of minimum required manpower in various procedures has also \\nbeen done. This book also recommends space and staff requirements for a model Panchakarma \\nunit. Textual references are also given wherever possible. I appreciate Dr. M.M. Sharma, Dr. B.S. \\nSharma, Mr. Upendra Singh & Mr. Narender Singh from publication section for their tireless \\nefforts in bringing out this publication. I hope that this handbook will serve as a ready reckon \\ndocument for students, practitioners, academicians, research scholors, scientists and certainly \\nhelp to establish a good Panchakarma center for better health care services. Place: New Delhi \\n(Prof. G.S.Lavekar) Director General CCRAS \\x00\\nBlank VI \\x00\\nniin ome heath in dase ; Hi Caraka Siddh; Sthana 1/53 SRG AAG: seth engage ara fife wa 1/ \\x00\\nBlank Vill \\x00\\nINDEX S.No. | Index Pages 1 Introduction 1 2 Snehana (Oleation) 5 3 Swedana (Sudation) 8 4 \\nVashpa Sweda (Steam Bath) 10 5 Vamana (Therapeutic Emesis) 15 6 Virechana (Therapeutic \\nPurgation) 20 7 Vasti (Medicated Enema) 24 8 Nasya (Nasal Insufflations) 32 9 Abhyanga \\n(Massage) 36 10 Kaya Seka (Pizhichil) 41 11 Shashtika Shali Pinda Sweda (Navarakizhi) 45 12'),\n",
       " Document(metadata={'producer': 'pdfmake', 'creator': 'pdfmake', 'creationdate': '2025-09-06T08:11:57+00:00', 'source': 'C:\\\\Code\\\\new_projects\\\\AyurSutra_Panchakarma_first\\\\Data\\\\pc1.pdf', 'total_pages': 18, 'page': 1, 'page_label': '2'}, page_content='Avagaha Sweda (Sitz Bath) 50 13 Upanaha (Poultice) 53 14 Patra Pinda Sweda 55 15 Churna \\nSweda 59 16 Shirodhara 61 17 Shirolepan 65 18 Shiro Vasti 67 19 Kati Vasti 71 20 Uro Vasti 74 \\n21 Akshi Tarpana 77 22 Pashchat Karma (Post operative regiman) 80 23 List of essential \\nequipments required for setting up of a Panchakarma Theatre 81 Ix \\x00\\n24 Medicines commonly used in Panchakarma Therapy 83 25 Annexure-I, Specifications of \\nPanchakarma Theatre 86 26 Annexure-I, Staff required for Panchakarma Speciality Centre 87 27 \\nSome important Panchakarma Centres in India 88 28 Acknowledgement 89 \\x00\\nINTRODUCTION “Ayurveda, the Indian System of Medicine, has been in vogue from times \\nimmemorial to impart natural healing for various ailments. The system was nurtured by ancient \\nscholars on the basis of sound underlying philosophy, oriental methodology and practices \\nprevalent in that era. This system is believed to be quite safe and free from side effects as it is \\nmore close to nature. Ayurvedic treatment comprises of two major parts viz. Samshodhana \\nChikitsa (Bio- cleansing therapy) and Samshaman Chikitsa (Pacifying therapy). Samshaman \\nChikitsa consists of conservative treatment like Langhana, Pachana, drug administration etc. \\nSamshodhana Chikitsa envisages Panchakarma treatment which is basically a Bio-cleansing \\nregimen intended to eliminate the toxic elements from the body and thereby enhances the \\nimmunity of the body. Samshodhana Chikitsa is considered superior to Samshamana Chikitsa as \\nthe chances for recurrence of the disease so treated are remote’. Panchakarma increases the \\nacceptability of body to various therapeutic regimens like Rasayana (Rejuvenation) and \\nVajikarana (Aphrodisiac). Thus, Panchakarma therapy is believed to impart radical elimination of \\ndisease causing factors and maintain the equilibrium of Doshas. Five fold measures? \\ncomprehended as Panchakarma are: Vamana (Therapeutic Emesis) Virechana (Therapeutic \\nPurgation) Anuvasana (Medicated Oil Enema) Asthapana (Medicated Decoction Enema) Nasya \\n(Nasal Insufflations) MR WN Description of these five procedures is available in Charaka Samhita \\nKalpa Sthana, Shusruta Samhita Chikitsa Sthana and Ashtanga Hridaya Sutra Sthana. \\nVagabhatta in Ashtanga Hridaya has enumerated five types of Samshodhanas’ i.e. 1 ae: wala \\ngata foarte: | for: dwar a dew grwequa 11 (a. WY 16/20) 2 ad Yad ae PreeraqaRry | wa Gapatfir \\nfran afeat: 11 (gm. B. 8/70) 3 adage van wea ad! Freel aad eraRrReisufagft: 11 Ge ® Ye 14/5) \\x00\\nNiruha Vamana Virechana Nasya Raktamokshana wM RWN > Prior to these five Pradhan Karmas \\n(main procedures), Purva Karma (preparatory measures) given to the patient are: e Pachana \\n(Ama Pachana or digestive & Deepana or appetiser medicines like Shunthi Kwatha may be given) \\ne Snehana (Oleation) and e Swedana (Sudation). After the main procedures, Pashchat Karma \\n(Samsarjana Krama), a special diet and life regimen is advocated as post operative measures. \\nPanchakarma therapy plays a definite role in the management of diseases especially of \\nneuromuscular, rheumatological and gastrointestinal origin. In addition to this Panchakarma \\nprocedures are utilized for the purpose of preservation, maintenance and conservation of health \\nand the promotion of longevity. Based on Ayurvedic principles and own experiences, the \\nAyurvedic scholars in South India have modified certain techniques/ procedures according to \\nDosha, Prakriti (body constitution), Kala (season), drug availability etc. and found them quite \\neffective. Later on, these procedures got popularized as Keraliya specialities of Panchakarma \\nwhich are extensively practiced in India and abroad as main procedures. Shashtika shali pinda \\nsweda, pizhichil, Shirovasti, shirodhara, shirolepana are some of these practices. These \\nprocedures are specialized varieties of Snehana and Swedana which have more nutritive/ \\nnourishing effect than bio-cleansing or depleting effect. With the spread of Buddhism to the \\nsouthern parts of India, Ayurvedic treatment got popularized as it was practiced in the \\nmonasteries. After the decline of the Buddhism, many of these monasteries were converted to \\ntemples and the practice of Ayurvedic treatment through these temples still continues in Kerala. \\nOne such example is Tiruviza of Allappy Distt. of coastal area where Vamana procedures are \\ndone daily. Panchakarma procedures were not confined to the higher societies only. Rather lower \\nclasses of the society also contributed to the promotion, progress and development of these \\nspecialized techniques. Due to this fact, modified techniques of Panchakarma treatment \\ndeveloped in Kerala, unlike North India. With the modernization and globalization of Ayurveda, \\nmore and more people are showing interest in these treatment procedures due to their \\neffectiveness in addition to the conventional Panchakarma practices. Physicians from other'),\n",
       " Document(metadata={'producer': 'pdfmake', 'creator': 'pdfmake', 'creationdate': '2025-09-06T08:11:57+00:00', 'source': 'C:\\\\Code\\\\new_projects\\\\AyurSutra_Panchakarma_first\\\\Data\\\\pc1.pdf', 'total_pages': 18, 'page': 2, 'page_label': '3'}, page_content='parts of the country and the western world wish to acquire this knowledge. 2 \\x00\\nThis Practical Handbook of Panchakarma Procedures is written with a view to impart simple and \\nbasic knowledge of these procedures to the learners. It has also been tried to put the textual \\nreferences wherever possible and to give the photographs of different procedures. However, \\nbefore administration of Panchakarma procedures, one must carefully select, assess and \\nprepare the patient explaining all the procedures to be followed. The doses of drugs, vegas and \\nfrequency of procedures may vary according to condition of the patient and / or severity of the \\ndisease. While undergoing procedures, it is duty of the physician to assess the patient’s strength, \\nconstitution, age, season, disease stage and other relevant factors*. The Samshodhana Chikitsa \\n(Bio-cleansing therapy) of Ayurveda, which includes Panchakarma treatment, basically intends to \\neliminate the toxic elements from the body and thereby enhances the immunity of the body. The \\ntoxic products of body metabolism can be broadly divided into water soluble, fat soluble and \\nvolatile substances. The volatile substances like carbon-di-oxide can easily be removed from the \\nbody through lungs. While there are number of mechanisms available to get rid of the water \\nsoluble toxic materials through kidney, sweat and other body secretions, removal of fat soluble \\ntoxic materials is very difficult and only liver can play a small role. Hence it is likely that, there \\nwould be accumulation of fat soluble toxic products in the body. Liberal use of oil and ghee in \\nvarious Panchakarma procedures makes it possible to eliminate these toxic products. In modern \\nday medicine, we understand that molecules moves from higher concentration to lower \\nconcentration when separated by a diffusible membrane. The skin and the mucous membrane \\nprovide an excellent opportunity for this maneuver. While skin of an average adult only provides a \\nsurface area of less than 2 square meters, the gastrointestinal tract is many meters long with a \\nhighly permeable mucous membrane. The mucous membrane of gut has many folds and \\nprojections in the form of villi and microvilli, which help to increase the total exchange area, \\nequivalent to a tennis court. Various Panchakarma procedures like. Vamana (Therapeutic \\nEmesis), Virechana (Therapeutic Purgation) and Anuvasana (Medicated Oil Enema) use oil \\nliberally, there by removing toxic fat soluble a add fafecaa a a vaca ogra 11 @o go Yo 12/67-68) \\x00\\nwaste materials. Prior to the five Pradhan Karmas (main procedures), Purva Karma (preparatory \\nmeasures) i.e. Bahya Snehana (External oleation) and Sarvanga Swedana (Whole Body Sudation) \\nare given to the patient. These procedures further helps in removing toxic materials from the \\nbody. Swedana procedure using hot steam increases the local skin blood flow there by \\nenhancing the exchange process. It is known that the fat soluble toxic substances are stored in \\nthe body fat. Fat in human body is largely located below the skin and inside abdomen around the \\nmesentery of the gut. During various Panchakarma procedures, exposure of skin and gut mucous \\nmembrane (which are very close to the fat stores) to a large quantity of oil seems to be a logical \\nand ideal procedure. Repetition of these procedures over several days will largely remove the \\ntoxic wastes by concentration gradient. The Ayurvedic medicines added to the oil might give \\nadditional benefits. One of the important features of these procedures is the safety and easiness \\nby which these can be administered without any major side effects. Although the practitioners of \\nmodern system of medicine do realize the individual variations in patient population suffering \\nfrom the same disease, most of them fail to appreciate these variations in practice. In Ayurvedic \\npractice of Panchakarma, Dosha (humoral factors), Prakriti (body constitution), Kala (season), \\ndrug availability etc. are always of prime concern. \\x00\\nSNEHANA (OLEATION) Snehana stands for lubrication of body systems by the administration of \\nfatty substances internally and externally. Snehapana (internal administration of Sneha) is an \\nimportant preparatory procedure for Panchakarma. Four types of Snehana dravyas are \\nmentioned in the classics viz. Ghrita (Ghee), Taila (Oil), Vasa (Fat) and Majja (bone marrow). Out \\nof these Ghrita is considered as the best°. Snehana (Oleation) includes: e Abhyantara Snehana \\n(Internal Oleation) © Bahya Snehana (External Oleation) Abhyantara Snehana is again classified \\ninto Achchha Pana and Vicharana. Achchha Pana is the oral intake of medicated or non \\nmedicated Sneha (Ghee / oil) without mixing with food or other medicinal preparations and used \\nfor the purpose of softening and lubricating of body tissues prior to the Shodhana therapy. \\nMaterial required: e Medicated ghee or oil according to the requirement e Measuring glass e Hot \\nwater for drinking (boiled with ShunthitDhanyaka) Medicines commonly used: e Indukanta Ghrita'),\n",
       " Document(metadata={'producer': 'pdfmake', 'creator': 'pdfmake', 'creationdate': '2025-09-06T08:11:57+00:00', 'source': 'C:\\\\Code\\\\new_projects\\\\AyurSutra_Panchakarma_first\\\\Data\\\\pc1.pdf', 'total_pages': 18, 'page': 3, 'page_label': '4'}, page_content='e Mahatiktaka Ghrita e = Sukumara Ghrita e Dhanwantara Taila e =. Ksheera Bala Taila etc. Man \\nPower: e ~—s- Ayurvedic Physician : 1 e Attendant/ Nurse : 1 5 ated gar Aco WdevEerear Aa: | Vy \\ndata: deerengadad i! (a. 13/13) \\x00\\nProcedure for Snehapana: Agnibala (digestive power) may be assessed in the patient prior to \\nSnehapana, so as to assess the dose of Sneha dravya (unctuous substance) (Hrisva/mild, \\nMadhyama/medium, Uttama/nigh). For the patient with unknown doshas, agni etc. one may start \\nwith Hrasiyasi matra® (which is digested within two yamas/hours). The patient who is intended \\nto under go Snehapana is to take the Sneha in the early morning (within 15 minutes of sunrise) in \\nthe prescribed dose based on his Agnibala (digestive capacity), nature of disease, condition of \\nbody etc. The usual dosage is between 50 to 75ml for Ghrita and 30 to 50 ml for Yaila on the first \\nday. The dose for the next day should be fixed after assessing the time taken for digestion. Hot \\nwater boiled with a piece of Shunthi (dry ginger) + Dhanyaka (dry coriander seeds) is given in \\nsmall doses to enhance the digestion (Deepana, Pachana). Snehapana (internal adminisration of \\nunctuous substance) may be continued till Samyaka Snigdha Lakshanas’ (symptoms of desired \\neffect) are observed and usually it is obtained within 3 to 7 days’. Usual practice of increasing \\norder of Snehapana dosage: First day : 50ml Second day : 100ml Third day : 150ml Fourth day : \\n200ml Up to 7° day : 350ml Indications’: e Swedya, Samshodhya (Persons eligible for sudation \\nand biocleansing procedures) @ Ruksha Sharira (Roughness in the body) e Nithyamadya \\n(Alcoholic) e =6 Krisha (Emaciated) e Timira (Premature cataract) 7 aanyqeara dreastadd: Rade | \\naed fern art Rerarrqgarsnd 11 (a. We Ye 13/58) 8 Sera vest g warabrant| (a. a Fy 13/51) 9 So era \\nETHER AAA aa T: | Geqeeapen war: APrarae: | | aad ercitreretmidaker: Gra: | Ge. e& FY 16/5-6) \\x00\\ne Vatarogas (Neuromuscular disorders) e Kasa (Cough) e Shwasa (Dyspnoea) e Hikka \\n(Hiccough) e Swarabheda (Hoarseness of voice), etc. Contraindications™: Sthoola (Obese) \\nKaphaja Vikaras (Kapha disorders) Atisara (Diarrhoea) Raktapitta (Bleeding disorders) etc. \\nRegimen during Snehapana: © = Rest e ~=- Avoid day sleep e Take Rice gruel after feeling hungry \\n(when consumed Sneha is digested). Complications and management: e Indigestion e Vomiting \\ne Nausea e Anorexia e Headache e Constipation etc. In such conditions, Snehapana should be \\ndiscontinued and fasting, Deepana (Stomachic), Pachana (Digestive) drugs may be given based \\non the patient/ disease condition. Scientific observation\": Oleation pacifies Vata; lubricates and \\nsoftens the Doshas. It improves digestion, regularizes bowels, improves the strength and \\ncomplexion and prevents premature ageing. N. B. After completing Snehana (oleation), Swedana \\n(sudation) is to be carried out (1- 3 days) based on the patient/ disease condition. 10 Aaa a rahe \\neamtecenmie — | @ @ Y 16/6-7) Uo Garena: oReygeis: weeny: | qeFaat war: wag: Seta! Gest Hagi! \\n(H.W. fa, 31/56) \\x00\\nSWEDANA (Sudation) Swedana is a process to induce sweating (sudation) artificially in a \\npatient/volunteer who has already undergone Snehana. Swedana is of four types” — (i) Tapa \\nSweda (ii) Ushma Sweda (iti) Upanaha Sweda (iv) Drava Sweda Snehana and Swedana constitute \\nPoorvakarmas. The patient is given Snehapana for 3-7 days depending upon the appearance of \\nfat in stool which is considered as the end point of Snehana. Snehana is followed by Swedana \\nand Swedana in turn is followed by Vamana procedure Types of Swedana (on the basis of \\ninduction of heat): 1. Thermal (Sagni Sweda)-13 2. Non Thermal (Niragni Sweda)-10 Types of \\nSwedana (on the basis of application of heat): 1. Local (Ekanga Sweda) 2. General (Sarvanga \\nSweda) Types of Swedana (on the basis of nature of heat): 1. Moist heat (Snigdha Sweda) 2. Dry \\nheat (Rooksha Sweda) Types of Swedana (on the basis of intensity of heat): 1. High Sweat (aha \\nSweda) 2. Medium Sweat (Madhyama Sweda) 3. Low Sweat (Durbala Sweda) General features of \\nSwedana Dravyas: The medicines which produce Sweda are generally having properties like: \\nUshna/warm, Tikshna/ sharp, Sara/slimmy, Snigdha, Sukshma/sub, Rooksha/rough, Sthira/\\nstable, Drava/iquid, Guru /heavy. 2 SMearauwrersica Aareagida: (Gg Ye. 17/1) \\x00\\nIndications of Swedana: According to Charaka, Swedana relieves: e = Stiffness (Stambha) e \\nHeaviness (Gourava) e Cold (Sheeta) Stambha Gourava Sheetaghnam Swedanam \\nSwedakarakam Stambhanam Stambhayati yat gatimantam chalam dhruvam (Carak Sutra-22/11) \\nIndications of Swedana: “ e =©Following Snehana e = Stiffness of the body e = Pain e §6Cold e \\nHeaviness e Dryness e Deranged Vatadosha/ Obstruction to Mala/stool, Mutra/urine and Shukra/\\nsemen e Prior to Panchakarma Procedures, as a Poorvakarma e Swedana is given to even'),\n",
       " Document(metadata={'producer': 'pdfmake', 'creator': 'pdfmake', 'creationdate': '2025-09-06T08:11:57+00:00', 'source': 'C:\\\\Code\\\\new_projects\\\\AyurSutra_Panchakarma_first\\\\Data\\\\pc1.pdf', 'total_pages': 18, 'page': 4, 'page_label': '5'}, page_content='infants by using warm hands Contra indications of Swedana: e Dagdha (Burnt) e ~=—- \\nVishapeeta (Poisoned) e Madyapeeta (Alcoholic) e Trishita (Thirsty/dehydrated) e =©Nidranasha \\n(Insomnia) e Chhardi (Vomiting) e Raktapitta (Bleeding disorders) e Hridaya Rogas (Cardiac \\nDiseases) 8 whevart @ ord a feeerarisacred | warty faory wed fearqerdi! (a. Ye 14/20-24) 4 \\nweargia area edaefad aI «= (Hl. Ae, 23/25) \\x00\\nVASHPA SWEDA (STEAM BATH) This is a kind of sudation by which medicated steam is applied \\nto the patient’s body for a certain period of time to get perspiration. It removes stiffness, \\nheaviness and coldness from the body. For this purpose Vashpa Sweda Yantra (A steam-bath \\nchamber) is required. Medicinal herbs /decoction is kept boiling in the Vashpa Sweda Yantra \\nfrom where the steam is generated and applied all over the body or any specific part through a \\ntube or pipe. The patient is advised to lie down inside the steam chamber after massage with \\nwarm oil (20°-22°C). A thick cotton sheet may be used to cover the body to get proper \\nperspiration. Material and Equipments: Medicated kwathas (Decoction) Suitable oil for massage \\n(Mahanarayana Taila, Dhanwantara Taila etc.) Vashpa Sweda Yantral Steam Chamber Bed-sheet \\nCloth Towel etc. Medicated Kwathas (Decoction): Usually Dashamoola is used: Bilwa (Aegle \\nmarmelos) Agnimantha (Premna integrifolia) Shyonaka (Oroxylum indicum) Patala \\n(Ptereospermum suaveolens) Gambhari (Gmelina arborea) 15 SA ToiReteacHarcreangey: | Tra \\naes etetieage: || sed: Waleat Verpreta: | Ryo wsEtayrasatard || Go go YO 17/6-7) afiekr afvert \\ngrads scare: gears: eiddicer: warstal oyia aandRre ered TH doa wReadfefa GRae: 11 (aRTHcd2) \\n10 \\x00\\ne = Brihati (Solanum indicum) e =6 Kantakari (Solanum xanthocarpum) © Gokshura (Tribulus \\nterrestris) e Shaliparni (Desmodium gangeticum) e = Prishniparni (Uraria picta) © Tulasi \\n(Ocimum sanctum) e Nirgundi (Moola / patra) (Vitex negundo) e Eranda Moola (Ricinus \\ncommunis), may also be used. Oils for massage: e Mahanarayana Taila e =. Rasnadi taila e = \\nNirgundi taila @ Dhanwantara taila etc.(as indicated by physician) Man power: e = Ayurvedic \\nPhysician 2 1 e Masseur 3 1 Mode of administration/ procedure: Patients are to be massaged \\nproperly with suitable oil for 30-45 minutes all over the body. Then the patient is advised to lie \\ndown inside the Vashpa Sweda Yantra and cover the body with a blanket. Patient is to remain \\ninside the yantra for 15-20 minutes or till he gets proper perspiration (Samyakswinna Lakshana‘), \\nPrior to Virechana it is recommended for 3 days and for Vamana one day. At the end of the \\nprocedure, patient may come out of the chamber and the sweat is wiped off with a towel. Bath is \\nadvised with luke warm water according to the physician’s choice Indications\": Neuro muscular \\ndisorders - Hemiplegia, Paraplegia, sciatica etc. 16 sagen weniafrre | word add ete wdeafarfotari| \\n(4. We Ye 14/13) 17 Vane earaeenreartaaierg | ead grat wataclwafanrta: || (io @ Yo 17/25-27) 11 \\x00\\nRheumatological problems - Rheumatoid arthritis, Osteoarthritis, Post Rejuvenation therapy \\nContraindications™: Visarpa - Timira - Madhumeha - Raktapitta Atisara - fracture stiffness of \\njoints etc. Erysipelas Cataract Diabetes Mellitus Bleeding disorders Diarrhoea Possible \\nComplications and management: Fainting = —- Sprinkle cold water on the face, apply suitable oil, \\nDrakshadi kwatha internally can be given. Burns - Apply Madhu (Honey), Ghrita (Ghee), \\nGhritakumari (Aloe vera) and other suitable treatment. Dietary regimen: Light (liquid or semisolid) \\ndiet is advised throughout the procedure. Scientific explanation ” : Swedana liquefies the \\nderanged Doshas/metabolic wastes and facilitate to bring them to Koshtha, (alimentary canal or \\nCentral part of the body) where they can be expelled out by subsequent Panchakarma \\nprocedures. 8 a wWatafarepermagd a fesar || werfiacermarmteafienke: fara srsreaiernr: | | \\nHhaguckresry pdfataar | weaenercatimleasnerante ar | | (le & Ye 17/21-23) So Sete: een aga a, \\neAdteiar 2 a eran: | amr: weed qdecca obs far: wee yfefPifead || (Ho ¢0, Yo 17/ 29) 12 \\x00\\nVASHPA SWEDA 13 \\x00\\nVASHPA SWEDA VASHPA SWEDA 14 \\x00\\nVAMANA (THERAPEUTIC EMESIS) Vamana means to induce vomiting; it is a bio-cleansing \\nmeasure meant for the elimination of doshas (mainly Kapha) accumulated in the upper gastro \\nintestinal tract (Amasaya)”’. Vamana is a treatment of choice in Kaphaja disorders”\\'. Materials \\nand Equipments: e Comfortable seat (Arm chair) (Vamana Peetha) : 1 e = Bucket : 1 e = Vessels : \\n3 [Mug, Glass, bowl, towels, B.P .Instruments, Weighing Scale, ECG Machine, Thermometer, \\nMeasuring Glass etc.] Vamana Yoga (Formulation to indule vomiting) : Ingredients in approx.'),\n",
       " Document(metadata={'producer': 'pdfmake', 'creator': 'pdfmake', 'creationdate': '2025-09-06T08:11:57+00:00', 'source': 'C:\\\\Code\\\\new_projects\\\\AyurSutra_Panchakarma_first\\\\Data\\\\pc1.pdf', 'total_pages': 18, 'page': 5, 'page_label': '6'}, page_content='quantities: © = Vacha (Acorus calamus) powder : 2 gm e@ Madanaphala (Randia dumatorum) \\npowder : 4 gm e ~—- Rock Salt : 5 gm e Madhu (Honey) : 15 ml Others: e Medicated oil for \\napplication on chest, back, abdomen : 100 ml (Mahanarayan Taila, Ksheerabala Taila, \\nChandanbala Taila, Lakshadi Taila, Dhanwantara Taila etc. may be used according to Dosha and \\ndisease). e = =6Milk : 1.5 ltr. © Madhuyashthi Kwatha (Decoction of Glylirrhiza glabra) : 1.5 ltr. e \\nLavanodaka (Salted water) : 1.5 Ite. 0 weet wed qadsey (a ow. 1/4) vaso far gad det ara fay | (a. \\nSY, 13/10) aged frees qearged Ig aq | an df fast aan ae 11 (i. Wea Wr 1/84) 1b fread Cart ar \\n@preaqt | deferad fat | fare g amaq | @& & ¥, 18/1) 15 \\x00\\nMan Power: e Ayurvedic Physician : 1 e Masseur : 1 e => Attendant : 2 Mode of drug \\nadministration/ procedure: The patient is to be prepared for Vamana by performing Purvakarma \\nproperly as indicated and is prescribed to take Kaphotklesha dravyas like fish, masha (black \\ngram), payasam (rice cooked in milk with ghee) etc. on the previous day of Vamana. Vamana is \\nto be conducted in the morning preferably between 7 to 8 A.M. If the patient is on empty \\nstomach, Yavagu (specific type of rice preparation made from 1:6 ratio of rice and water) with \\nghee may be given before performing the Vamana™. After Snehan and Swedana, the patient is to \\nbe advised to sit comfortably in a chair (Vaman peetha). Afterwards mixture of milk or \\nMadhuyashthi Kwatha (Vamanopaga dravya) is to be given full stomach. Vacha powder with \\nhoney is given to lick in between. At the last sip of the decoction Madanaphala powder with \\nhoney is given to be licked. The medicines for Vamana should be administered in proper quantity, \\naccording to the age, strength, constitution, season etc. Usually, Vamana starts within 10-15 \\nminutes after giving the medicine. While the patient is vomiting, masseur should massage back \\nand chest in upward direction. To stimulate the urge for the bouts of vomiting, warm water mixed \\nwith Saindhava (Lavanodaka) or milk should be given repeatedly. Assessment criteria of vamana \\nprocedure are elaborately mentioned in the classics. Usually the fluid comes out. within 48 \\nminutes. If not vomited out the pharynx may be gently irritated with a finger or Kamalanala (stem \\nof lotus). Vegas (bouts) of Vamana: According to No. of bouts (Vegas) Vamana may be \\nclassified into- e Jaghanya Vamana/mild emesis — 4 vegas (bouts) 2 -8y wes gue se a lerdal | \\ngelq udeedaarifarr: 11 (a. d # 1/14) 3 fad a fRemoord a farwarg | far uaqerria airy ad Re aA g \\nHaq) @ & | 18/32) 2A TERT Y Aaa El at Getcl| (a .fe. 1/13) (i. @ Ye 18/31) 16 \\x00\\n© Madhyama Vamana/Moderate emesis — 6 vegas (bouts) e Pravara Vamana/Excellent emesis \\n— 8 vegas (bouts) Post Vamana regimen: When Samyak yoga (appropriateness) of Vamana is \\nobserved the patient should clean his mouth and face with warm water and Dhumapana \\n(medicated smoking) with the prescribed drugs e.g. Haridra (Curcuma longa) is to be performed. \\nIn the evening, the patient may be instructed to take hot water bath. When the patient is having \\ngood appetite, Samsarjana krama* (Controlled diet and lifestyle) is to be followed. Semi solid \\ndiet preferably rice gruel may be given. Indications”’: e Gastric problems - Amlapitta (Acid peptic \\ndisorders), indigestion etc. e Respiratory diseases - Kasa (Cough), Shwasa (bronchial Asthma) e \\nOther diseases - Such as Madhumeha (Diabetes), Unmada (Schizophrenia), Peenasa (Sinusitis), \\nKushtha (Skin diseases), Granthi (Tumour), Shlipada (Filariasis) Contraindications”*: e Acute \\npeptic ulcer e = Atikrisha (Emaciated body) e ~=—- Bala (Children) e = Vriddha (Old age) % fiffaet \\nvada opiate: ward) Ge Be Ye 18/25) %* =o tar factited ad a, a8 wea area ate PAT Vad RissHiear| \\nTarAaayplaya:| GW. S Yo 18/29) 7 fester g arraiq | Adora: ARTS: | HSS ATepiay: | \\nVaRecdhadasdeaaar ed aT: | (i. Fe Ye 18/1-2) 8 ware TPT wa: ag frat Prerg-Rac: 1 \\nqWeaqenwefeaggihradgdan: | wradaseyottetahrete raha: | | Sauda anidRasdeays: | FaTareyal \\nTeoh qdarecwt asta: | | Sq HATS AT STAI T: | Bed fawrereietdwaEreraerd: || (. & | 18/3-6) 17 \\x00\\n© Garbhini (Pregnancy) e Shranta (Exhausted) e ~—- Pipasita (Thirsty) e Kshudhita (Hungry) e \\nAHrridroga (Cardiac disorders) Complications of Vamana therapy”: Atiyoga (excessive) of \\nVamana may cause — (i) Froth in vomitus (ii) Hematemesis (iii) Weakness (iv) Dryness of throat \\n(v) Feeling of darkness (vi) Giddiness (vii) Vatarogas (neuro-muscular disorders) (viii) Fresh \\nbleeding Scientific observation: Certain diseases originate due to accumulation/ vitiation of \\nphlegm/ Kapha. The elimination of this dosha will help to prevent and cure the disease. 29 afaart \\n¥ bta-cexadad | | afd ard are: Svat WA: | ERI arama yeyoitamflrarrrad Be Be Ye 18/25-26) 18 \\x00\\n19 \\x00\\nVIRECHANA (THERAPEUTIC PURGATION) Virechana is the procedure by which the vitiated'),\n",
       " Document(metadata={'producer': 'pdfmake', 'creator': 'pdfmake', 'creationdate': '2025-09-06T08:11:57+00:00', 'source': 'C:\\\\Code\\\\new_projects\\\\AyurSutra_Panchakarma_first\\\\Data\\\\pc1.pdf', 'total_pages': 18, 'page': 6, 'page_label': '7'}, page_content=\"Doshas are eliminated through the anal route. It is the treatment of choice for Pitta predominant \\nconditions™. Material and Equipments: e Attached toilet (lavatory) is a must. e Towels, Bed \\nsheets etc. Medicines: Single drugs: Any of the following medicines may be selected according \\nto the condition of the patient: e =‘: Trivrit (Operculina turpethum) - root powder -—5 gm e \\nAragvadha (Cassia fistula) - fruit pulp — 10 gm e Eranda (Castor oil) - oil — 15 to 25 ml \\nCompound preparations: Any of the following medicines may be selected according to the \\ncondition of the patient: e Ichhabhedi Rasa - 60-120 mg with cold water e Kalyana Guda/ \\nManibhadra Guda - 10-15 gm e §=Bindu Ghrita - 4-5 drops e =. Hingu triguna Taila - 15-25 ml e \\nAvipattikara Churna - 10-20 gms Man power: e ~=——- Ayurvedic Physician (for supervision) : 1 e \\n~=>- Attendant : 1 Mode of administration/procedure Selected patient should undergo first \\nPurvakarma i.e.Snehapana for 3-7 days, then Abhyanga & Swedana for three days. The medicine \\nfor purgation is to be given in early morning at 6 AM preferably on empty stomach. Usually the \\npurgation will start after three hours. Warm water may be given in small doses, when the patient \\nfeels thirsty or the urge 30 ata feat GeTHA II defeat fit faster g araq| @e & Ye, 18/1) 20 \\x00\\nfor evacuation is not felt sufficient. Cold water should be used for drinking when the preparation \\nof Jayaphala is used for purgation. When the evacuation of bowel is complete as per the \\nJakshanas (features) described for Samyak Virechana*' (proper purgation), the patient is advised \\nto take complete rest. Thereafter Samsarjana krama® is to be followed as per the directions of \\nthe physician. Assessment criteria of Virechana procedure are elaborately mentioned in the \\nclassics*? (Jaghanya (mild)- 10 Vegas, Madhyama (moderate) - 20 Vegas, Pravara (Excellent) - \\n30 Vegas). Indications*™: e Gastrointestinal disorders Constipation, Krimi (Worm infestation), \\nKamala (Jaundice) e Dermatological disorders Eczema, Allergic dermatitis etc. e Other major \\nconditions - Pakshaghat (Hemiplegia), Jeerna Jwara (Chronic fever), Madhumeha (Diabetes), \\nArbuda (Tumour), Jamak Shwasa (Bronchial Asthma), Galganda (Goitre), etc. Contraindications*: \\ne Navajwara (Acute fevers) e = Krisha (Emaciated patients) e Rajayakshma (Tuberculosis) e \\nGarbhini (Pregnant women) e AHridroga (Cardiac problems) 1 6 fikiaet wet framed gerd a farang: \\n| fear uficormfa are aa fre, at g faqil @ & YP , 18/32) 2 War factinad ad a, ae we Aya ater way Ud \\nRISHiea, Warrsearaypaya: | (le Be Ye. 18/29) 3 asta a fern fake oeercen wreq fragt seseessseee \\noord a fog: | ..........ffar weaeerriam ra fara (Se Be Ye. 1831-32) 54 PARTE CRT cc cccceeecceee \\nSS: HAA AM: (He Be Ye. 18/8-9) 35 aenatsee a gy tan aaeat ATA TATA AT TAA: | rererreen fire \\nreefer: | (i. Fe Ye. 18/10-11) \\x00\\nComplications: The complications during Virechana therapy may be in the form of Ayoga \\n(inadequate purgation) / Atiyoga (excessive purgation). Symptoms of Ayoga: 1 2 3 4 5. 6. 7. 8. 9 \\nHridaya Ashuddhi (heaviness of pericardium) Udara Ashuddhi (heaviness of abdomen) Aruchi \\n(anorexia) Kapha-pitta utklesha (accumulation of sputum in throat or gastric reflax) Kandu \\n(itching) Daha (burning sensation) Pitika (eruptions) Peenasa (sinusitis) Obstruction of Vata & \\nMala Symptoms of Samyak Virechana* The symptoms of Samyak Virechana are opposite to \\nSymptoms of Ayoga. Symptoms of Atiyoga 1. Malena 2. Prolapse of rectum 3. Thirst \\n(dehydration) 4. Giddiness 5. Sunken eyes Scientific observations This process cleans the \\nchannels by the removal of accumulated waste products, undigested material and the toxins \\nmainly from the gut (Gastrointestinal tract). which have moved here by sudation. It enhances the \\nappetite, power of digestion and absorption of food. 36 erpragfarefrocets: zetia: 11 e@vefdare: \\nfifeer: deat arcfieye: | warren apt datiel weatfrardi| Ge ee Ye, 18/38-39) 22 \\x00\\nBenefits of Samshodhana”’: Samshodhana (Vamana & Virechana) procedures provide the \\nfollowing benefits: Clarity of the mind Strength to the sense organs Stability to the tissues \\nImprovement of digestion Slowing down of Ageing process 37 giarne aafifcarn agRercd varia \\ndita | farrea Ure que: orf Walt PRATAP || Be Be Ue. 18/60) 23 \\x00\\nVASTI (MEDICATED ENEMA) Vastikarma is the procedure by which the medicines in suspension \\nform are administered through rectum or genitourinary tract using Vastiyantra*®* (Specific \\napparatus). It is the most important procedure among Panchakarma procedures and the most \\nappropriate remedial measure for Vatadosha. Materials and Equipments: Vastiputaka (Bladder or \\npolythene bag approx. 1.5 Lt. capacity) - 1 Vasti netra (Nozzle) - 1 Lavatory facilities Others \\n(thread, vessels, churner, heating apparatus, table/ bench, towel, hot water for bath etc.) \\nMedicines- usual ingredients: Medicated oils for Abhyanga Swedana Karma materials Medicated\"),\n",
       " Document(metadata={'producer': 'pdfmake', 'creator': 'pdfmake', 'creationdate': '2025-09-06T08:11:57+00:00', 'source': 'C:\\\\Code\\\\new_projects\\\\AyurSutra_Panchakarma_first\\\\Data\\\\pc1.pdf', 'total_pages': 18, 'page': 7, 'page_label': '8'}, page_content='oils for Vasti Kwatha (Decoction) & Kalka (Paste) made from prescribed medicines — Madhu \\n(Honey) Saindhava (Rock-salt) Man Power: e Ayurvedic Physician : 1 e@ Masseur : 1 Types of \\nVasti (Classified into many ways): According to the nature of medicine used, two types of \\nenemas are: Astthapana/Kashaya/ Niruha Vasti - Decoction based enema Anuvasana/ Sneha \\nVasti - Oil based enema Matra (dose) of Vasti dravyas: It depends upon age, sex, strength (bala) \\nof the patient and state of Doshas / disease. 38 aRatidtad wea wend sRakRfa eya: (a. 3. G. 5-1) \\n24 \\x00\\nApparatus for Vasti: Vasti yantra is composed of a Vastiputaka (animal bladder/polythene bag) \\nand Vastinetra or nozzle made up of metals like gold, silver, copper, etc. (Charak Siddhi 3/7). The \\nlength of Vastinetra may be 6 tol2 fingers according to age of the patient (Sushrut Cikitsa 35/8). \\n1, NIRUHA VASTI/ KASHAYA VASTI (DECOCTION ENEMA): Decoction enema is given before \\nmeals (i.e. 8-9 AM) and usually consists of Medicated oil/ghee : 240 ml Madhu (Honey) : 180 ml \\nDecoction made from prescribed drugs: 480 ml Shatahwa kalka : 30 gm Rock-salt : 15 gm \\nPreparation of Vasti dravya® Powdered rock-salt is added to honey and stirred in a clean vessel \\nwith a pestle. Oil is added to this mixture little by little and again stirred. Then paste of Shatahwa \\nfollowed by decoction is to be added little by little quantity and mixed properly to make \\nhomogenous emulsion, and heated gently in a water bath (slightly above body temperature). This \\nmixture is poured into a Vastiputaka (polythene bag/processed animal bladder) and fixed with \\nVasti Netra (tied by using thread). Procedure” Having undergone Abhyanga and Swedana, the \\npatient is advised to lie down in left lateral position. Little quantity of oil is applied on patient’s \\nanus and nozzle of Vasti yantra. The nozzle is gently inserted into the anal canal up to a specific \\nlength and Vastiputaka containing mixture is pressed with a uniform pressure. The pressure is \\ncontinued till only small quantity of fluid remains in the bag (to avoid air insertion). Then the \\nnozzle is removed gently and the patient is allowed to lie down on supine position till he feels \\nurge to excrete. 39 aie am ee wee eaefafa ward || aratd Freer dare fai: @. & FY 19/45) 40 Taam \\nanraface afagend wat ayer | Wises a aeyfesd taka wi) (a fA 3/17) 25 \\x00\\nThe Vasti dravya along with faeces normally comes out within 10 minutes when a full dose of \\nNiruha Vasti is given. The maximum time specified for retention of Vasti dravya is 48 minutes“. \\nAfter evacuation of the bowel, the patient may take hot water bath and semi solid diet. Usually \\nNiruha Vastis are not to be given alone. Wherever required, Niruha Vasti must be given \\nalternatively with Sneha Vasti. Arrangement of Sneha Vastis in the beginning, Niruha Vastis and \\nSneha Vastis alternatively later followed by Sneha Vastis in the last is done in three specific \\npatterns according to total number of Vastis, the severity of disease and condition of the patient \\netc. These are known as: Karma Vasti ” - 30 in number (12 Niruha, 18 Anuvasana) Kala Vasti * - \\n16 in number (6 Niruha, 10 Anuvasana) Yoga Vasti - 8 in number (3 Niruha, 5 Anuvasana). \\nCommonly used Vasti Yogas: Madhutailika vasti Bala guduchyadi vasti Patolanimbadi vasti \\nVaitarana vasti Indications“ : Neurological disorders - Hemiplegia, Paraplegia, Sciatica, \\nParkinson’s disease etc. Rheumotological disorders - Gout, Rheumatoid Arthritis, Lumbago, \\nOsteo Arthritis, Myalgia etc. Digestive disorders Chronic Fever Secondary Amenorrhea, etc. 41 42 \\n43 arrdt ua: otet Yat Yad GI! (Ss We 19/47) Wests UH: Gard green a Ura Sid qeacaRaeiRar: || (He \\nBe Ye 19/63) ore: Catolsa wie Stelsd FaeTMT | We GaaeerdkRa uritsel aeqaisagi! Ge. e FY 19/64) \\nCLL hs wary aad Feresaqad | (a. fA. 2/16) 26 \\x00\\nContraindications*: e = Urakshata (Chest Injuries) e = Krisha (Emaciated body) e Amatisara \\n(Diarrhoea with mucus) e =Chhardi (Vomiting) e Kasa (Cough) e Shwasa (Asthma) e Madhumeha \\n(Diabetes) e Arsha (Piles) e Shoona Payu (Inflammed Anus) e = Kritahara Immediately after \\ntaking food) © Udakodara (Ascitis) © Garbhini (Pregnant woman) 2. SNEHA VASTI (OIL ENEMA): \\nAdministration of medicated oil through anal /genitourinary route is called Sneha vasti. The \\ndosage through anal route may vary from 100 ml to 250 ml according to the Doshik \\npredominance, disease condition / patient’s condition etc. The usual time of administration is \\nafternoon immediately after lunch. Procedure: After Abhyanga and Swedana, the patient is \\nadvised to lie down in left lateral position. The Vastidravya (Sneha) is administered in similar \\nmanner as Niruha vasti. As it is a retention enema, the contents should be allowed to retain \\ninside for a minimum period of three hours and all efforts are to be done for the same. It is not \\nharmful even though it is retained for one day. S sarerancdartrea: adept Fe wei: | amiftant ara'),\n",
       " Document(metadata={'producer': 'pdfmake', 'creator': 'pdfmake', 'creationdate': '2025-09-06T08:11:57+00:00', 'source': 'C:\\\\Code\\\\new_projects\\\\AyurSutra_Panchakarma_first\\\\Data\\\\pc1.pdf', 'total_pages': 18, 'page': 8, 'page_label': '9'}, page_content='dyeteariat: 11 VARIA STS PATA ACTS: | WaT: Haden dafesgteatad | | Qs a ayael a ART Wa a TOT \\n«Ge Se Uy, 19/4-5) 27 \\x00\\nIndications“: Neurological & Arthritic conditions Jeerna Jwara (chronic fevers) \\nContraindications“”: Arsha (Piles) Bhagandara (Fistula) Raktapitta (bleeding disorders) \\nNavajwara (Acute fever) Pushpita (menstrual period) Pandu (Anemia) Kamala (Jaundice) \\nPrameha (Diabetes) Peenasa (Sinusitis) Sthoola (Obese) Krimi (Worm infestation) Galganda \\n(Thyroid disorders) Shlipada (Filariasis) 46 47 Katishoola (backaches), Gridhrasi (Sciatica) and \\nother Vata vyadhis UY WRT vararen: fastener wade: Saad: WY asad yardage yetgartpad i! (a. fH. \\n2/19) 28 POR STATS a spp est: (a. fA. 2/17) \\x00\\nMATRA VASTF*: Matra vasti is the method of administration of medicated oil in small dose, \\nwhich can be given daily and is totally harm less. It is a type of Sneha vasti and indications are \\nsimilar to Sneha vasti. It can be applied irrespective of age and no much precautionary measures \\nare required. The usual dosage is 60 ml. Indications: e Vyayama (excess physical and mental \\nexertion) e Madyapana (Alcoholism) e Dourbalya (Debility) e Vataroga (Neurological disorders) e \\n= Bala, Vriddha (Children & Elderly persons) etc. Complications during Vasti Cikitsa: The \\ncomplications of Vasti are dealt in detail in texts (Caraka Samhita Siddhi Sthana) There are: e \\nDoshas (defects) of Netra (nozzle) — 8 types e Doshas of vasti - 8 types e —_ Doshas of \\nvastidata (technician) — 10 types e Snehavasti vyapat — 6 types These may result into various \\ncomplications like : e —_ Local anal injury e GIT symptoms like pain in abdomen, vomiting etc. e \\n—_- Very rarely generalized symptoms like murchha (synlope), angamarda (bodyache) etc. \\nManagement is done accordingly. 48 etary (i) TeAefiidy a qd aia a raat: Ua aa-|] (a. We Pe 4/52) \\n29 \\x00\\nVASTI DRAVYAS VASTI YANTRA 30 \\x00\\nVASTI KARMA VASTI KARMA 31 \\x00\\nNASYA (NASAL INSUFFLATIONS) Administration of medicines through nostrils is called Nasya. \\nNasya is indicated mainly in aggravated and accumulated Doshas of head and neck”. Materials \\nand Equipments: Chair Droni/ Panchakarma table Gokarna (special type of vessel) Oil for \\nmassage Towel Medicines: Commonly used oils are- Dhanvantara taila Anu taila Ksheera Bala \\ntaila Shadbindu taila Medicated Powder in Pradhamana Nasya Medicated Juice in Avapida \\nNasya Medicated Smoke in Dhooma Nasya Types of Nasya: © 1. Snehanasya (a) Marsha Nasya \\n(b) Pratimarsha Nasya Avapida Nasya (when Kalka/Swarasa of leaf/ fruit etc. are used) \\nShirovirechana nasya (when Tikshna dravyas are used for cleansing of sinuses) Pradhamana \\nnasya (insufflations of drug-powder) 49 50 ater site frat a eet aera dad gfa wer 11 (G. fa. 40/21) \\nod ugfery fastaerefiend | arf Rat ak da aqara ea ay i] @. & Y 20/1) ates uftasiea fget etetsa AAT | \\noops u dat{drat: ar fRasqit @. e Yy 20/7) 32 \\x00\\nTypes of Nasya (according to action): 1. Virechana Nasya 2. Brimhana Nasya 3. Shamana Nasya \\nMan power: e = Ayurvedic Physician : 1 @ Masseur : 1 Doses of Nasya: Matra Marsha Uttama \\nmatra (maximum dose) 10 drops Madhyam matra (medium dose) 8 drops Hriswa matra (mild \\ndose) 6 drops Pratimarsha nasya matra: 2 drops Time of Pratimarsha nasya *! 1. Inthe night 2. In \\nthe day 3. After food 4. After Vamana 5. After day sleep 6. After traveling 7. After exhaustion 8. \\nAfter sexual relation 9. After Siroabhyanga (head massage) 10. After Gandoosha (gargles) 11. \\nAfter urination 12. After Anjana 13. After defecation 14. After teeth cleaning 15. After laughing 2 \\nPrenetiwardie: CasER TAP | RRsat ar | | Avapida 8 drops 6 drops 4 drops (. & 33 20/28) \\x00\\nProcedure: The patient should sit or lie down in a comfortable posture. He has to undergo gentle \\nmassage over the head, forehead and face followed by mild Swedana. Slightly warm oil should \\nbe instilled in the prescribed dose in each nostril. Gentle massage is to be performed on the \\nplantar and palmar regions, shoulder and back. The patient is allowed to spit if patient feels \\ndiscomfort due to oil in the throat. After completion of the procedure, oil on the face is to be \\nwiped off and complete rest is advised to the patient. Gargling with warm water may follow \\nDhoomapana (inhalation of medicated smoke) through mouth may be given after Nasya. Dose of \\nthe oil: 4-8 drops per sitting. Duration of the treatment: 7-14 days. Indications™: e Shirahshula \\n(Headache) © Urdhwajatrugata- Roga (E.N.T. diseases) e Ardita (Facial paralysis) e \\nManyastambha (Cervical spondylitis) e = Timira (Cataract) @ Wyanga (Hyper pigmentation) \\nContraindications®: e Pregnancy e Immediately after taking food, water, alcohol etc. e Ajeerna'),\n",
       " Document(metadata={'producer': 'pdfmake', 'creator': 'pdfmake', 'creationdate': '2025-09-06T08:11:57+00:00', 'source': 'C:\\\\Code\\\\new_projects\\\\AyurSutra_Panchakarma_first\\\\Data\\\\pc1.pdf', 'total_pages': 18, 'page': 9, 'page_label': '10'}, page_content='(Indigestion) 2 saecet:, fartaneg RRteTRITH ........... odd floret aearndte | 53 aRnieateky \\nadifttperandttets —---—- arredtgfarate || (a. fA. 2/20) 34 \\x00\\nNASYA a DHOOM AFTER NASYA 35 \\x00\\nABHYANGA (MASSAGE) Abhyanga can be defined as the procedure of application of Sneha \\nDravya over the body with mild pressure. Abhyanga word is derived from ‘Abhi’ upsarga and \\n‘anga’ dhatu. Thus taila/ghrita/vasa etc. are rubbed over the body in directions comfortable to \\nthe patient. It improves strength and alleviates Vata. Abhyanga is a type of Bahya Snehana. It can \\nbe performed as therapeutic procedure as well as preventive procedure. Materials and \\nEquipments: e Abhyanga table - 1 e =6 Medicated oil - 100 to 150ml e = Vessel - 200 ml. capacity \\ne Tissue paper/soft towel e Green gram powder/ Medicated Snana Churnal Medicated soap Oils \\ncommonly used in the Abhyanga: © = Masha taila e Narayana taila e = Dhanvantara taila e \\nKarpasasthyadi taila e = Ksheera bala taila Man power: e Ayurvedic Physician @ Masseur : 2 \\nProcedure: The patient is made to sit on the Abhyanga table with leg extended. The oil is to be \\nheated to optimum comfortable temperature and applied over the head, ears, and soles of feet. \\nThen the oil should be applied uniformly with mild pressure over the body by two masseurs \\nstanding on both sides of the table. Massage is to be started from scalp, head and move down to \\nneck, upper back, shoulders, upper arms, fore arms, hands and then chest, abdomen, low back \\nand lower limbs. Abhyanga should be done in sitting, supine, right lateral and left lateral positions \\nand prone position. At the end of the procedure the oil on the body is wiped off with tissue paper \\nor towels. Duration: Usually 30 - 40 minutes. 36 \\x00\\nPost operative procedure Patient should take complete rest for half to one hour in a comfortable \\nmanner. Bath can be taken with hot water and medicated powder (Snana churna) or soap may be \\nused to remove the oil and to clean the body. Light semisolid digestible diet may be advised after \\nbath. Indications: Neuromuscular disorders - Pakshavadha (Hemiplegia), Shaishaveeya- vata \\n(Poliomyelitis) Pangu (Paraplegia) and Gridhrasi (Sciatica)etc. Rheumotalogical problems- \\nArthritis, Lumbago etc. Vriddhavastha (Old age) Shirahshula (Headache) Angamarda (Bodyache) \\nRejuvenation of the body Contraindications: *4 Navajwara (Acute fevers) Ajeerna (Indigestion) \\nRaktapitta (Hemorrhagic disorders) Atisara (Diarrhoea) Immediately after Panchakarma \\nActions®: It provides smoothness and improves luster of the skin. It takes care of body-\\nexhaustion It controls Vata (Neurological disorders) It improves vision It induces sound sleep It \\nstrengthens the body and gives longevity 54 55 say Spied ga Pyare: 11 Ge Re Ae 2/9) TRAN UT \\nUAE | quite wae Geagraaydadacdad |! Rr: say urey a faster eferiaq | (LS ¥Y, 278-9) 37 \\x00\\nScientific explanation: The Abhyanga with oils provides stimulation to the nerves. It improves the \\nsensory motor integration. It also gives passive exercise to the muscles thereby strengthening \\nthem. The gentle pressure used during massage relaxes the muscles. Abhyanga also removes \\nskin dryness and improves skin lustre. 38 \\x00\\nABHYANGA 39 \\x00\\nABHYANGA 40 \\x00\\nKAYASEKA (PIZHICHIL) Kayaseka or Pizhichil with oil is a modified form of Parisheka Sweda \\ndeveloped as a specialty of Kerala. Pizhichil is the process by which the body is made to perspire \\nby means of pouring warm medicated oil in a specific manner. It is a preparatory procedure of \\nPanchakarma which has the advantage of producing Snehana and Swedana effect at the same \\nmoment. Materials and Equipments: e Panchakarma Droni (Dhara table) -1 e ~—- Pillow (soft and \\ncomfortable) -1 e Cotton cloth (40X40 cms) - 4 pieces e = Vessels 5 liter capacity - 4 no. e Warm \\nwater for bath e Towel/ tissue paper to wipe the oil from the body e Heating arrangements (stove \\netc.) e Piece of cloth rolled lengthwise, to be tied around the forehead to prevent flow of oil to the \\neyes. Medicines: e Medicated oil as per the prescription of physician. - 5 to 6 liters e Medicated \\noil for head - 10 ml e@ Rasnadi churna - 5 gms e Gandharva hasthadi kashaya - 60 ml Man \\nPower: e Ayurvedic Physician e Masseurs e =>. Attendant : 2 Procedure: The patient should be \\nmade to sit on the Droni with legs extended. Cotton swab (Taila Pichu) is to be applied over the \\nscalp after soaking in suitable oil and Karnapurana (application of oil in the ears) is to be done. \\nThe rolled cotton cloth has to be tied above the ears around the head at the level of forehead. \\nEars should be plugged with cotton and oil is to be applied all over the body. Gentle massage is \\nto be performed by two masseurs attending either side of the patient. 41 \\x00'),\n",
       " Document(metadata={'producer': 'pdfmake', 'creator': 'pdfmake', 'creationdate': '2025-09-06T08:11:57+00:00', 'source': 'C:\\\\Code\\\\new_projects\\\\AyurSutra_Panchakarma_first\\\\Data\\\\pc1.pdf', 'total_pages': 18, 'page': 10, 'page_label': '11'}, page_content='The oil for Kayaseka is to be heated by keeping the vessel on a hot water bath. The temperature \\nof oil must be comfortable to the patient. Then piece of cloth is to be dipped in the warm oil and \\nsqueezed over body with the right hand .Simultaneously gentle massage is done with left hand. \\nThe oil should flow in uniform stream from the thumb facing down wards from a height 12 to 20 \\ncms. or as per the condition of the disease / patient. The process is to be continued in seven \\npositions as given below. Positions for Kayaseka: Basically three positions Sitting, Supine and \\nProne are described but practically following seven positions can be followed: 1. Sitting 2. Supine \\n3. Left lateral 4. Prone 5. Right lateral 6. Supine 7. Sitting Post process measures: After \\nKayaseka, the body of the patient is to be massaged gently and oil to be wiped off with clean \\ntowel over the scalp and body. Then fresh oil is to be applied all over the body and covered with \\nblanket or cotton cloth. Rest is advised for few minutes followed by hot water bath. Rasnadi \\nchurna is to be applied over the scalp and Gandharva hasthadi kwatha (60 ml) is to be given \\norally. Duration: The duration of the procedure may be 45 to 60 minutes and usually performed \\nfor 7, 14 or 21 days according to the condition of the disease/ patient. Use of Oil: It is desirable to \\nuse fresh medicated oil for Kayaseka every day. But as it is very costly, the same oil may be \\nreheated, filtered and used for further three days. Another quantity of fresh oil is again to be \\ntaken and used as before for the next three days. The quantity of oil preserved after 1* and 2™ \\ncourse of treatment can be used for the 7% day after heating and removing the sediments. Being \\ncompleted the course of seven days; the residual oil is to be discarded. Indications: e \\nNeuromuscular disorders - Hemiplegia, Paraplegia, Peripheral Neuropathy and other \\nDegenerative conditions, Muscular and Ligamentous injuries 42 \\x00\\ne Orthopaedic & Rheumatological problems - Rheumatoid Arthritis Osteoarthritis, other \\nDegenerative joint disorders, Contusion injuries, Post fracture stiffness of joints, Dislocation of \\njoints e Rejuvenation therapy Contraindications: e Painful inflammatory conditions e Acute \\nstages of fever e Gastro intestinal problems - Diarrhoea, Digestive disorders etc, e Respiratory \\ndisorders - Cough, Breathing difficulty, Infections etc. Dietary regimen: Normal diet can be \\nprescribed. For rejuvenation, meat soups can also be given. Scientific explanation™ This process \\nstimulates neuromuscular system; increases the peripheral circulation, improves the functions of \\nskin, sense organs and provides nourishment. 6 sig goat @rifa quai cert aiforar | we weafifeae \\nural ari faroifacy || Ra TE Fat aa wikifeary | Usha FAT YT Pala FE || (AMRHeq—2) 43 \\x00\\nKAYASEKA (PIZHICHIL) KAYASEKA (PIZHICHIL) 44 \\x00\\nSHASHTIKA SHALI PINDA SWEDA (NAVARAKIZHI) Shashtikashali pinda sweda also known as \\nNavarakizhi is a Kerala specialty of treatment in which the whole body or any specific part is \\nmade to perspire by the application of heated medicinal rice (Navara) puddings externally in the \\nform of boluses tied up in a cotton cloth’’. Materials and Equipments: e =Panchakarma Droni -1 e \\nGas Stove -1 e = Vessels -2or3 e Cotton pieces (1ft x 1 ft) -4no. e = Cotton thread - 2 mtrs e Palm \\nleaves -8- 10in No. e =© Towel e Hot water for bath Medicated oils commonly used for \\nAbhyanga: e Mahamasha taila e Dhanwantara taila © Ksheera bala taila e Karpasasthyadi taila e \\nAshvagandha Bala taila Quantity required: approx.100 ml Medicated Kwatha: e Dashamoola \\nKwatha/ Balamoola Kwatha — 3 litres e Gandharva Hastadi Kwatha — 60 ml (orally) Amalaki \\nKalka (paste of Emblica officinalis): e Paste prepared after boiling in butter milkk -— 100 gm 37 \\nfrernmacdeara qatenrrate: | um: aad: five watoddil (a Y 14/25) 45 \\x00\\nOthers: e Cows milk — 3 litres e =: Shastika shali (Special variety of rice) — 300 to 500 gm Man \\npower: e Ayurvedic Physician e Masseur e => Attendant : 2 Mode of administration/ procedure™: \\n300 to 500 gm of Shashtika shali (specific variety of rice, which is yielded after 60 days) is \\ncooked with 1.5 liters of milk and decoction of Balamoola (root of Sida cordifolia) or \\nDashamoola. This mixture is to be kept in four pieces of cloth to make 4 boluses. Another \\nportion of decoction and milk of the same quantity should be mixed and heated in low \\ntemperature to dip the above boluses for warming the Pottali (Kizhi). The patient should be \\nproperly massaged with suitable warm oil all over the body and head. The paste of Amalaki Kalka \\nshould be applied on the scalp. The warm Pottalis (kizhi) should be gently applied in \\nsynchronized manner by two masseurs on two sides of droni. They should ensure that the heat \\nof the boluses is bearable to the patient by touching them over the dorsum of their hand. The \\ntemperature of the boluses should be maintained throughout the procedure by continuous use of'),\n",
       " Document(metadata={'producer': 'pdfmake', 'creator': 'pdfmake', 'creationdate': '2025-09-06T08:11:57+00:00', 'source': 'C:\\\\Code\\\\new_projects\\\\AyurSutra_Panchakarma_first\\\\Data\\\\pc1.pdf', 'total_pages': 18, 'page': 11, 'page_label': '12'}, page_content='four boluses. The process should be continued till the patient gets Samyak Swinna Lakshana®. \\nThis process is also done in seven positions as in Kayaseka or as per the requirement. 8 UM \\nSedgiwey wwraq wtea cgay qian we yaar faaratq seq anaq cgay | fisr fiaenq apirctar arsy TY \\nYErary | fren aid sear faa waa wd | afer ffetopafiredt: ferry aera wetter | RS oS erro oo I aaa? \\nwards wares: wae Vea: wer uaa aa yates Rem yeton oer ai wrakaa taraeneadentetarrdn: Sid: Tae \\nvet wate wld Sefer aay @radiam Siete sith Sra Yo 5-6) 9 sfragereagqael eaeaaiafrae | Wad Aled \\neae Lderfertdtari! (4 Ye 14/13) 46 \\x00\\nPost operative procedure: At the end of the procedure, the paste of medicine remaining over the \\nbody should be scrapped off with palm leaves or in similar way and the body should be wiped off \\nwith dry soft towels. Then Taila swab is to be removed and Rasnadi churna is applied over the \\nscalp. Medicated oil should be applied over the body and Gandharva hasthadi kwatha is given \\norally. The patient should take complete rest for at least half an hour and then take a bath with \\nwarm water. Duration: The total duration of the procedure may be 45 to 60 minutes. The \\nprocedure is usually performed for 7, 14 or 21 days according to the requirement. Indications: e \\nNeuromuscular disorders - Hemiplegia, Paraplegia, Muscular wasting e Diseases of joints - \\nOsteoarthritis and other degenerative conditions e Rejuvenation therapy Contraindications: e \\n~=>- Acute fever e Inflammatory and painful conditions, Myalgia e Gastro intestinal problems like \\nDiarrhoea, Digestive disorders etc, e _ Respiratory disorders - Cough, Breathing difficulty, \\nInfections etc Dietary regimen: Light vegetarian diet consisting of liquids or semisolids are \\nusually prescribed during the course of the treatment. Scientific explanation: By performing this \\nprocedure, massage, heat and pressure are provided to the body simultaneously with \\nnourishment to the muscles and nerve endings. 47 \\x00\\nITEMS FOR SHASTIKA SHALI PINDA SWEDA 48 \\x00\\nSHASHTIKA SHALI PINDA SWEDA 49 \\x00\\nAVAGAHA SWEDA (SITZ BATH) Avagaha sweda is a type of Swedana (sudation) in which the \\npatient is made to sit/ lie in a tub containing medicated decoction for a certain period of time so \\nas to give fomentation to the body®. Materials and Equipments: e => Bath Tub (6 ft x 2.6 ft x1.4 \\nft) -1 e —- Vessels -2 e Decoction of medicinal plants - 40-60 litres e = Oil for Abhyanga - 100ml e \\nTowel/ tissue paper etc. Medicines: Usually the following Decoctions are used for this purpose e \\nSahachara kwatha e = Nirgundi kwatha e Dashamoola kwatha Man power: e Ayurvedic Physician \\ne Masseur : 2 Mode of administration/ procedure: The patient should be massaged properly and \\nadvised to sit in the tub (containing warm decoction) for 20 to 30 minutes. It should be ensured \\nthat the lower part of the body is submerged in the decoction. To maintain continuous uniform \\ntemperature, fresh warm liquid may be added to the decoction after small intervals. After \\ncompletion of this procedure, body should be wiped off. The patient should be advised to take \\nhot water bath followed by light food. Gandharva hastadi kwatha is to be given afterwards for \\ndrinking. The treatment may be given for 3-7 days or as per Physician’s directives based on \\npatient / disease condition. o Raa at: Pf ae aaftshre | awanenqrasal: qeorfewy a il i. & UY 17/11) \\n50 \\x00\\nIndications: e Lumbo sacral pain and degenerative conditions e = Neurological problems of hip \\nand lower limbs e Lower gastro intestinal problems e Urogenital problems like renal calculi, \\nretention of urine etc. e Bhagandara (Fistula-in-ano) e Arsha (Piles) Contraindications: e Nava \\nJwara (Acute fevers) e Atisara (Diarrhoea) e Prasuta (Purpeurium) e Madhumeha (Diabetes) \\nDietary regimen: Light easily digestible diet preferably liquids and semisolids. Scientific \\nexplanation: This is a process in which stimulation to nerves and relaxation to muscles is \\nprovided through heat and fomentation to the back, perineum, thighs and lower abdomen. It is \\nalso a local treatment for Arsha (piles) and Bhagandara (fistula). 51 \\x00\\n0). aaa AVAGAHA SWEDA (SITZ BATH) 52 \\x00\\nUPANAHA (POUL TICE) Upanaha is one type of Swedana (sudation) in which the medicines are \\nmade in to a paste after boiling with suitable liquid and applied over a specific area. It is to be \\ncovered with Vatahara leaves and bandaged with thick cloth which can be removed after 12 \\nhours. Acharya Chakrapani described the Upanaha sweda as of two types (i.e. Sagni, Niragni). \\nMaterials e _- Fine powder of prescribed drugs - 50 gms e = Taila/ Ghrita (Medicated oil/ghee) - \\n15-25 ml e Amla dravya (Dhanyamlal Curd) - 50-100 ml e = Saindhava (Rock salt) - 20-30 gms e'),\n",
       " Document(metadata={'producer': 'pdfmake', 'creator': 'pdfmake', 'creationdate': '2025-09-06T08:11:57+00:00', 'source': 'C:\\\\Code\\\\new_projects\\\\AyurSutra_Panchakarma_first\\\\Data\\\\pc1.pdf', 'total_pages': 18, 'page': 12, 'page_label': '13'}, page_content='Leaves of Eranda (Ricinus communis) - QS e = Thick cotton / woolen cloth - QS e ~—=- Vessel -l e \\n= Stirrer (Spoon) -1 Man power: e = Ayurvedic Physician : 1 @ Masseur : 1 Procedure* Saindhava \\nand powdered drugs are to be taken in a vessel along with sufficient quantity of Taila/ Ghrita and \\nAmla dravya and then heated. This mixture is stirred continuously till it becomes thick paste. \\nWarm oil should be applied in the area where Upanaha is to be done. Then the above paste with \\nbearable heat should be applied. The area where the paste is applied should be covered with \\nEranda patra or other prescribed leaves and bandage to be done with thick cotton cloth. This can \\nbe removed and cleaned after 8 — 12 hours followed by oil to be applied. 61 BSUel \\nTafHvetadeaeaarory: | ard: writes weiwscc#»hty: || sigataah: Gteq@ra-gd: | Gad vad, vam eae: || \\nfiers uqueredeg Ueqimel: Ya: GA] Ge. B Y 17/2-3) wal aq fear y-day-dgrat fearnay | facrenRerref, \\nvar wevtg sitdeti| (a. We FY 14/38) 53 \\x00\\nIndications: e Headache e ~—s Arthritis e Bursitis e —_- Frozen shoulder e ——- Varicose vein e \\nTumor e Plantar fascitis e = Cervical spondylosis Contraindications e ~—- Severe inflammation of \\nskin e — Infections Diet: Normal diet Scientific observation: It is a type of Swedana (sudation) \\nthat imparts heat to a specific area resulting into reduction of swelling and pain. It improves the \\nblood circulation and thus, mobilizes the waste materials of that area. 54 \\x00\\nPATRA PINDA SWEDA Patra Pinda Sweda tefers to the Swedana (sudation) performed by \\nspecially prepared bolus of medicinal leaves®. In this process leaves of Vatahara drugs are cut \\ninto pieces and fried with rock salt and suitable medicated oil. This hot mixture is tied in cotton \\ncloth as boluses for application over the body. Material and Equipments: e = =Panchakarma \\nDroni -l e Frying pan -1 e —- Vessels for heating - QS @ Gas stove -1 Ingredients: e __ Leaves of \\nvarious herbs (chopped into pieces) -lkg e =. Grated. coconut - 100 gms e ~—- Rock salt - 15 gms \\ne Lemons -2 No. e Medicated oil - 100 ml The leaves commonly used: e = Eranda (Ricinus \\ncommunis) e Amlika (Tamarindus indica) e Karanja (Pongamia glabra) e = Shigru (Moringa \\noleifera) e Dhatura (Datura metel) e Arka (Calatropis procera) e = Nirgundi (Vitex Negundo) The \\nMedicated Kwatha: e = Gandharva hastadi kwatha — 60 ml. (orally) 62 ee eee Tat ge senda: \\nTarsat Serra: | @. & Y 17/6-7) 55 \\x00\\nCommonly used oils: © Karpasasthyadi taila e © Kottamchukkadi taila e Balaashwagandhadi \\ntaila e Dhanwantara taila Man power: e Ayurvedic Physician e Masseur : 2 Mode of \\nadministration/ procedure: The leaves and lemon are cut into very small pieces and fried with \\nmedicated oil and rock salt in a frying pan by giving proper heat. The mixture so prepared is put \\ninto a small piece of cloth and tied up into two boluses. The bolus (pottali) should be gently \\napplied in synchronized manner. This bolus is applied hot to the skin already smeared with warm \\nmedicated oil. To maintain its temperature, the bolus is intermittently kept warm by heating on \\nthe frying pan. Post operative procedure: At the end of the procedure, body should be wiped off \\nwith dry soft towel. Gandharva hastadi kwatha is to be given orally. The patient should take \\ncomplete rest for at least an hour and then allowed to take bath with warm water. Indications: e \\nNeuro muscular disorders - Pakshavadha (Hemiplegia), Gridhrasi (Sciatica) e Rheumatological \\nconditions - Arthritis due to various reasons-Amavata, Sandhivata, Katishula, Avabahuka etc. \\nContraindications: e =Taruna Jwara (Acute fever) e = Atisara (Diarrhoea) e Raktapitta \\n(Hemorrhagic disorders) e Twak Vikara (Infective eczema, Psoriasis etc.) Dietary regimen: Light \\ndiet preferably liquids and semisolids. Scientific explanation: It is a kind of Swedana (sudation) \\nwhere heat, pressure and oil are applied simultaneously with some Vatahara drugs. So this may \\nstimulate and strengthen neuromuscular system resulting in reduction of pain and inflammation. \\n56 \\x00\\nINGREDIENTS FOR PATRAPINDA SWEDA 57 \\x00\\n> . a) a i >_—_—— PATRA PINDA SWEDA PATRA PINDA SWEDA 58 \\x00\\nCHURNA SWEDA Churna Sweda is a kind of Swedana (sudation) given by powder of various \\nherbs made as pottalis (bolus) and application of these pottalis over the body after heating. \\nMaterial and Equipments: © Medicinal powder : 200-400 gm e Lemon : 2-4 pieces e ~—- Rock \\nSalt : 15-30 gm e Oi : 25-50 ml e Gas stove : 1 e = Others - Cotton cloth, thread, Panchakarma \\nDroni, frying pan, big spoon Medicines: Any of the following e = Kola Kulutthadi churna e \\nJatamanshyadi churna e Tilamashadi churna The Medicated Kwatha: e = Gandharva hastadi \\nkwatha — 60 ml. (orally) Commonly used oils: © Karpasasthyadi taila © Kottamchukkadi taila e'),\n",
       " Document(metadata={'producer': 'pdfmake', 'creator': 'pdfmake', 'creationdate': '2025-09-06T08:11:57+00:00', 'source': 'C:\\\\Code\\\\new_projects\\\\AyurSutra_Panchakarma_first\\\\Data\\\\pc1.pdf', 'total_pages': 18, 'page': 13, 'page_label': '14'}, page_content='Balaashwagandhadi taila e Dhanwantara taila Man Power e = Ayurvedic Physician @ Masseur : 2 \\nMode of administration/ procedure: Powder of medicinal plants / seeds, lemon, rock salt are \\nmixed together and fried with medicated oil. This mixture is tied up in a cotton cloth to prepare a \\nbolus. This bolus is heated in oil and applied with mild pressure over the body after gentle \\nmassage. 59 \\x00\\nPost operative procedure: At the end of the procedure body should be wiped off with dry soft \\ntowel. Gandharva hastadi kwatha is to be given orally. The patient should take complete rest for \\nat least an hour and then allowed to take bath with warm water. Indications: e Neuro muscular \\ndisorders - Myalgia, Gridhrasi (Sciatica) etc e Rheumatological conditions- Arthritis due to \\nvarious causes e = Cervical spondylitis Contraindications: e = Acute inflammatory conditions e = \\nAcute fevers e Haemorrhagic disorders e Pregnancy Dietary regimen: Light food preferably \\nliquids and semisolids Scientific explanation: It is a kind of fomentation that stimulates nerve \\nendings, relaxes muscles and relieves pain. 60 \\x00\\nSHIRODHARA Shirodhara is a type of Murdha taila® (Application of oil to the Head/ scalp), in \\nwhich prescribed medicated oil/ liquid is continuously poured over the forehead and then \\nallowed to flow over the scalp from a specific height for a certain period of time. Material and \\nEquipments: e Shirodhara device -l e Dhara table -l e Suitable liquids for Shirodhara — 3 litres \\nMedicines: Any of the following: Oils: e Karpasasthyadi taila e = Ksheera bala taila e Chandanadi \\ntaila e Dhanvantara taila © §=©Narayana taila. Othor liquids: e Buttermilk prepared with Amalaki \\n(Emblica officinalis). e Decoction of Yashtimadhu (Glycyrrhiza glabra) e = =6Milk e Coconut \\nwater Man Power: e ~—s- Ayurvedic Physician : 1 e => Attendant : 2 Mode of administration / \\nprocedure: The patient is to be massaged on the head with suitable oil. In certain cases whole \\nbody massage is also done before Shirodhara. Patient should lie in supine position on the Droni \\nwith a pillow under the neck and the Shirodhara device is placed over the head. Its height is fixed \\nin 63 aarstefran aRaata ager | ada dei afgengericaey || (le B Ye 22/23) 61 \\x00\\nsuch a way that suitably warm oil/ medicated liquids should fall from a height of 8 to 10 cm in a \\ncontinuous stream of the thickness of a little finger over the forehead. The oil/ liquid poured is \\nrecollected and reheated just above the body temperature and again poured in the Dhara Patram. \\nThe attendant should move the vessel to both sides of the fore head so that the flow of liquid \\nreaches both sides properly. After this process, the oil is to be wiped off and the patient is \\nadvised to take bath with medicated warm water after half an hour. Duration: It may be done for \\n7, 14 or 21 days as per the severity of the disease. Indications: e Cerebrovascular disorders - \\nHemiplegia e Cerebral palsy e = Facial palsy e Headache e Insomnia e = Cervical Spondylitis e = \\nAnxiety Neurosis e Other psychological disorders e Eye diseases of neurological origin \\nContraindications: e Space occupying lesion in the brain e Glaucoma @ = Fever e Conjunctivitis e \\nInflammatory conditions of head Dietary regimen: Light diet, preferably semisolids and liquids \\nScientific explanation: Constant flow of liquid in a specified manner relaxes the mind, calms and \\ntranquillizes the patients. It pacifies Vata. 4 arftaRredtcaeiemy J | uRve: frq: Suenacegerp || (Be \\nYe 22/24) 62 \\x00\\nKWATHA MATERIAL FOR SHIRODHARA MATERIAL FOR SHIRODHARA 63 \\x00\\nSHIRODHARA Ly , iY ; ke ‘a \\\\ ? h \\\\ af B: wN, f Ama lal % f any ft i is a i Cea ~— (or ay a a \\nSHIRODHARA 64 \\x00\\nSHIROLEPANA Shirolepana is a procedure of application of paste of medicines on head for a \\nspecific period of time. Material Required: ° Musta (Cyperus rotundus) 10-20 gm. e = Dried Dhatri \\nphala (Emblica officinalis) - 250 gm e Takra (Butter milk) - 500 ml. e =: Taila (Suitable oil) - 20 ml. \\ne ~—- Lotus leaves - QS e Rasnadi Churna (Powder of Pluchea lanceolata) - QS Preparation of \\nTakra & Paste: Milk is boiled with Musta (Cyperus rotundus). Curd is made from this boiled and \\ncooled milk. Takra is prepared from this curd and Amalaki (Emblica officinalis) is to be soaked in \\nTakra for over night. The next day paste is prepared from this mixture. Preparation of the patient \\n& Procedure: The head of the patient is to be shaved and medicated oil applied over the body and \\nscalp. Patient has to sit comfortably in a chair and Varti is to be tied around his head. Thereafter \\npaste should be applied on his head with a thickness of 3 inches. At the center, a dip (trench) is \\nmade and taila is poured into it. Lotus leaves are to be covered on the applied paste and tied \\naround the head. After one hour, lotus leaves and the paste should be removed. Afterwards head'),\n",
       " Document(metadata={'producer': 'pdfmake', 'creator': 'pdfmake', 'creationdate': '2025-09-06T08:11:57+00:00', 'source': 'C:\\\\Code\\\\new_projects\\\\AyurSutra_Panchakarma_first\\\\Data\\\\pc1.pdf', 'total_pages': 18, 'page': 14, 'page_label': '15'}, page_content='is to be washed and Rasnadi Churna is to be applied. Man power: e ~——- Ayurvedic physician : 1 \\ne = Attendant : 1 Time and duration: Morning, between 8 AM to 10 AM for one hour daily. The \\ncourse of treatment may be continued for 7 days or 14 days. Indications: © ° Nidranasha \\n(Sleeplessness) e Shirahshula (Headache) 6 frreaert RR Farq Rrtett: waftish: GRIdszaeiiae: | \\naRaeaeraranegaitattar ste: i| (Ge. Be. 26/12-13) 65 \\x00\\ne Pitta Raktaja Shirorogas (Diseases of head due to vitiated Vata & blood) @ Twak Rogas \\n(Psoriasis, Eczema etc.) Contraindications: Cold, Fever, Sinusitis and other inflammatory \\nconditions. Diet: Normal diet Scientific observation: It provides tranquility to the head and brain \\nsoothes the mind and nourishes the brain cells. It is found very effective in mental retardation, \\nloss of memory and in psychiatric problems. 66 \\x00\\nSHIRO VASTI Shiro vasti is a type of Murdha taila®, in which the medicated oil is kept over the \\nhead with the help of a cap fixed for a prescribed period of time. Material & equipments required: \\ne _Rexene/ leather cap (75 cm X 25 cm) -1 e ~— Black gram floor - 25 Ogms e §=©Medicated oil \\n- 1.5 litres e Cotton cloth (5 cm X 60 cm) -2 e Gas Stove -1 e Hot water bath -l e ~—=- Vessels -3 e \\nRasnadi churna (Powder of Pluchea lanceolata) -5 gm e =Arm chair -1 Medicated oils commonly \\nused : e = Dhanwantara taila e Narayana taila e =—s_ Bala taila e = Ksheerabala taila e \\nChandanadi taila e Karpasasthyadi taila Method of administration & Procedure: The patient is \\nmade to sit comfortably in an armed chair .The strip of cloth smeared with paste of black gram \\npowder should be wound around the head 2 cm above the eye brows. It must be tight enough to \\nprevent leaking of oil, but not causing any discomfort. Then the cap is to be fixed over the strip \\nand the junctions are to be sealed with black gram paste. To seal the junctions leak free, another \\nlayer of cloth smeared with the paste is also applied over the cap. 66 aarstefran aRaata ager | \\naday dei afgergaricdey || (He B Ye 22/23) 67 \\x00\\nThe medicated oil heated just above the body temperature is to be slowly poured inside the cap \\nover the head without any discomfort to the patient .The oil is to be filled up to a height of 5 cm \\nabove the scalp. Temperature of the oil (warmness) is to be maintained by replacing with warm \\noil at regular intervals. The process is to be continued for 45 minutes. At the end of the \\nprocedure, the oil is to be taken out by dipping cotton piece and squeezing in a container so as to \\nrecollect the oil. After this the cap is removed and head wash is done. After wiping off the oil with \\nclean and dry towel, Rasnadi churna is applied. Gentle massage is performed on shoulder, neck \\nforehead and back. Man Power: e = Ayurvedic Physician : 1 e Attendant : 1 Duration and time: \\nThe usual course of therapy is 7 days and is usually done in the afternoon or evening (between 3 \\nand 5 PM) for an average time of 45 minutes. Indications: e Neurological disorders such as \\nHemiplegia, Facial palsy e Numbness e —_ Sleeplessness e Dryness of mouth and nose e Eye \\ndiseases e Severe /chronic diseases of head Contraindications: e = Acute inflammatory \\nconditions e — Infections Dietary regimen: Light diet, liquids and semisolids are preferable. \\nScientific observations: e Treatment for Vata vikaras of head e Useful in neurological complaints, \\nchronic diseases, etc. e _ Strengthens the organs in the head and soothes the mind 68 \\x00\\nSHIRO VASTI SHIRO VASTI 69 \\x00\\nSHIRO VASTI SHIRO VASTI 70 \\x00\\nKATI VASTI Kati vasti is a procedure in which comfortably hot medicated oil is kept over the \\nlumbosacral area or any adjacent part for a certain period of time with the help of a cap like \\nhollow structure. Material and Equipments: e Panchakarma table -1 e = Vessels -3 e Spoon -1 e \\n«Cotton Qs e Hot water for bath -1 e §=©Medicated oil - 111. e Black gram powder -1Kg. e \\nDashamula Kwatha for Nadi Sweda Medicines: Any of the following Medicated oils can be used: \\ne Karpasasthyadi taila e Sahacharadi taila e = Masha taila e Dhanvantara taila e \\n§=©Kottumchukkadi taila. e Mahanarayana taila Mode of administration/ procedures: Black \\ngram powder is to be mixed with sufficient quantity of water to make a thick paste (dough). It is \\nthen rolled into a flat slab like structure having length of about 45 to 60 cm, thickness of 2-3 cm \\nand height 5 cm. Selected patient should undergo Abhyanga (massage) all over the body and \\nthen Nadi sweda (Medicated steam) on the low back & legs. Patient is advised to lie down in \\nprone position. The prepared dough is to be fixed on the lumbosacral area in a circular shape, \\ntaking care not to cause any leakage of oil. The oil should be heated up to warmness over the \\nwater bath and poured slowly inside the ring. Its uniform temperature must be maintained'),\n",
       " Document(metadata={'producer': 'pdfmake', 'creator': 'pdfmake', 'creationdate': '2025-09-06T08:11:57+00:00', 'source': 'C:\\\\Code\\\\new_projects\\\\AyurSutra_Panchakarma_first\\\\Data\\\\pc1.pdf', 'total_pages': 18, 'page': 15, 'page_label': '16'}, page_content='throughout the process by replacing warm oil. The oil is to be kept for 30-40 minutes. After the \\nprescribed time, oil is to be removed by dipping cotton and squeezing in a container. Dough can \\nbe removed afterwards, and the area is to be wiped off followed by cleaning with lukewarm \\nwater. Thereafter the patient is advised to 71 \\x00\\ntake rest. Oil used once may be filtered and reused for next two days. 4% day the oil to be used \\nshould be fresh. Man power: e ~——- Ayurvedic physician e ~—- Attendants : 2 Time and duration: \\n30-40 minutes daily. The course of treatment may be continued for 7 days or 14 days. \\nIndications: e Lumbo sacral pain - Lumbar spondylosis, PIVD etc. e Neuro muscular disorders - \\nGridhrasi (Sciatica), Katishula Contraindications: e =. Acute fever e = Acute stage of Rheumatoid \\narthritis e Inflammatory or infective conditions e Haemorrhagic disease e Kidney disease Dietary \\nregimen: Normal diet Scientific explanation: Keeping the medicated oil for specific period of time \\non the affected area may nourish the nerves, muscles and joints in the particular region. The heat \\nof the oil also gives passive fomentation. It gives relief from symptoms. 72 \\x00\\nKATI VASTI KATI VASTI 73 \\x00\\nURO VASTI Retaining warm medicated oil on specific area of chest for a specified period of time \\nis called Uro Vasti. Material and Equipments: e Panchakarma table -1 © Medicated oil - 500 ml e \\n~=— Black gram powder - 500 gm - 1 Kg. e §€« Cotton gauze -QS Medicated oil (any of the \\nfollowing):- © Karpasasthyadi taila @ Panchaguna taila e Balaashwagandhadi taila e = Bala taila \\ne Narayana taila e §©Kottumchukkadi taila Man Power: e ~——- Ayurvedic Physician : 1 e \\nMasseur : 1 Mode of administration/ procedure; Black gram powder is made in to dough by \\nmixing it with water. The patient has to lie down in supine position. A trough is to be made with \\nthis dough on chest or heart region. Medicated oil has to be filled in it and retained for 30 to 40 \\nminutes. After the specified time, the oil is to be removed with the help of cotton gauze. \\nThereafter, trough can be removed and oil wiped off. The patient is to be advised to take rest. \\nUsually the procedure is done for 7 days. Indications: e Muscular pain/stiffness of the chest e = \\nChronic injury of Chest Contraindications: e ~=- Status asthmaticus e Tuberculosis e _— Bleeding \\ndisorders 74 \\x00\\nDietary regimen: Normal diet Scientific explanation; Keeping the medicated oil for specific period \\nof time on the affected area may nourish the nerves, muscles and joints in that particular part. 75 \\n\\x00\\nURO VASTI 716 \\x00\\nAKSHI TARPANA In this process, medicated ghee is retained over eyes for 15-20 minutes. \\nMaterial and Equipments: © Panchakarma Droni -1 e Medicated Ghee - 50 ml e => Black gram \\npowder - 250 gm Medicines: The following medicated ghee preparations are commonly used. e \\nJeevantyadi Ghrita e = Patoladi Ghrita @ §=6Triphala Ghrita Man power: e ~—s- Ayurvedic \\nPhysician : 1 e => Attendant : 1 Procedure”: Black gram powder is to be made in to dough by \\nusing water. The patient is to be advised to lie down in supine position. Gentle massage is to be \\ndone on head, eyes and face. A trough is to be made with this dough around both eyes, \\napproximately 2 cm in height around the eyes. Medicated ghee (a little below body temperature \\nbut in liquid form) is to be filled inside the trough. It is to be kept for 15-20 minutes and then the \\nghee is to be collected by the gauze. The face should be wiped off with clean dry towel. \\nThereafter eyes should be covered with the leaves of lotus or petals of rose and the patient is to \\nbe advised to sit away from the sunlight for a day. It may be done for 7 to 14 days. 67 TR \\nWARMERS | Fant whi aed yeahfdora: 11 Pret UE Wid: Us aa: | Ge Be Y- 24/3) 77 \\x00\\nIndications®: e Ophthalmological conditions e §©Xeropthalmia e Optic nerve atrophy \\nContraindications: e «© Conjunctivitis Scientific explanation: This process may nourish the \\nstructures in the eyes. It strengthens the optic nerve. 6 wa aaa wel ye vasirenfad | araftrarge foret \\nefefoenfactert | ag farretRricanariss?: | SEPM AAA: |] (Ho Be Ye 24/1-2) 78 \\x00\\nAKSHI TARPANA AKSHI TARPANA 79 \\x00\\nPASHCHAT KARMA (POST OPERATIVE REGIMEN) The patient should take complete rest for an \\nequal period of time for which he has undergone the therapeutic procedure. Pashchat Karma is \\ndone as the patient requires to regain the strength of Dhatus and to come to normalcy. Peyadi \\nSamsarjana Krama® is to be followed in all cases undergone Panchakarma procedures i. e., \\nliquids, semisolids and solid diet is given successively. The patient should use hot water for all'),\n",
       " Document(metadata={'producer': 'pdfmake', 'creator': 'pdfmake', 'creationdate': '2025-09-06T08:11:57+00:00', 'source': 'C:\\\\Code\\\\new_projects\\\\AyurSutra_Panchakarma_first\\\\Data\\\\pc1.pdf', 'total_pages': 18, 'page': 16, 'page_label': '17'}, page_content='purposes and should observe Brahmacharya (Celibacy) during Pashchat Karma. Sleeping in day \\ntime is to be avoided and proper sleep in the night is to be maintained. Natural urges should not \\nbe controlled forcibly. The patient should be free from physical and mental exertion and should \\nnot be exposed to smoke, excess cold, sun rays, wind etc. Traveling, sitting idle for a long time \\nand talking in a high voice are to be avoided. Soft and low pillows are to be used. Gandharva \\nhastadi kwatha is usually given for Vatanulomana during the course of therapy. Rasayana \\nChikitsa may be administered to the patient after this period. Some of the important Rasayanas \\n(10-15 gm twice daily) used are: © = Chyavanprasha e Agastya Haritaki e Sukumara Rasayana e \\nBrahma Rasayana e Naarsimha Rasayana Single Rasayana / Vajikarana drugs: e §=Vardhamana \\nPippali e Lashuna Kalpa e =: Shilajatu e Ashwagandha e Masha Atmagupta Rasayana © = Musali \\n6 aPeasst Ara wer za: freq draaafe | wea APE || SOTA CGA AGW: | a anil ararpreasnieearar | Waa \\nTART: | Araiepealqeane: TARAS A || are fen daa wet | wdertkad urat anreitty a ma: 11 Ge Be Ye \\n16/25-28) 80 \\x00\\nLIST OF ESSENTIAL EQUIPMENTS REQUIRED FOR SETTING UP OF A PANCHAKARMA THEATRE \\n1) Massage table : 2 Length: 7 feet (Wooden/ Fibre) Width: 3 feet Height: 2.5 feet 2) \\nPanchakarma Droni (Dhara Droni) : 2 Length: 9 feet Width: 2.5 feet Height: 2.5 feet 3) Shirodhara \\nVessels : 2 Stainless steel vessels 3 litre capacity 4) Vasti Netra (disposable) : 30 no. 5) Nasya \\napplicator/ dropper : 2 6) Geyser : 1 ) Hot fomentation instruments : 2 (Steam chamber) 8) \\nLeather Cap (for Shiro Vasti) : 2 9) Gas Stove/heating apparatus : 2 10) = Tub (for Avagaha \\nsweda) : 2 11) Small vessels, Spoons : 4 NB: Automated instruments may also be used as per the \\navailability. 81 \\x00\\nPANCHAKARMA DRONI 82 \\x00\\nMEDICINES COMMONLY USED IN PANCHAKARMA THERAPY TAILAS (OILS) 1. Anu taila 2. Bala \\nGuduchyadi taila 3. Chandanadi taila 4, Chandanabala Lakshadi taila J. Dashamoola taila 6. \\nDhanwanthara taila 7. Eranda taila 8. Karpasasthyadi taila 9. Kottamchukkadi taila 10. \\nKsheerabala taila i. Lakshadi taila 12... Mahamashadi taila 13. Mahanarayana taila 14. \\nNirgundyadi taila 15, Prabhanjana taila 16.“ Prasarini taila 17. Sahacharadi taila 18. Saindhavadi \\ntaila 19. Shadbindu taila 20. Tila taila (Sesame oil) 21. Pinda taila 83 \\x00\\nCHURNAS/ AVALEHA/ RASA (Powders/ Confectionery/ Herbomineral preparations) Ss mB ND \\nHW KR WN Jatamansyadi Churna Dashamula Kwatha Churna Kottamchukkadi Churna \\nMadanaphaladi Churna Upanaha Churna Kalyanaka Avaleha Ichchhabhedi Rasa Gandharva \\nHastadi Kwatha Churna Rasnadi Churna 84 \\x00\\nOTHERS 1. Balamula (Root of Sida cordifolia) 2. Nirgundi (Vitex negundo) 3. Amalaki churna \\n(Emblica officinalis) 4. Dhatura (Datura metel) 5. Musta (Cyperus rotundus) 6. Trivrit (Operculina \\nturpethum) 7. Aragwadha (Cassia fistula) 8. Goghrita (Ghee) 9. Saindhava lavana (Rock salt) 10. \\nMadhu (Honey) I. Shatawha (Anethum sowa) 12. Leaves of Karanja (Pongamia pinnata), Shigru \\n(Moringa oleifera), Arka (Calotropis procera), Eranda (Ricinus comunis), Amlika (Tamarindus \\nindica), Padmaka (Nelumbo nucifera) etc. 13. Vacha (Acorus calamus) 14. Mudga and Masha \\nChurna (Green and black gram powder) 15. Shashtika Shali Dhanya (a variety of rice yield after \\nsixty days) 16, Takra (Butter milk) 17. Dugdha (Milk) 18. Narikela jala (Coconut water) 85 \\x00\\nANNEXURE - I SPECIFICATIONS OF PANCHAKARMA THEATRE In the existing hospitals, there \\nshould be separate wards for males and females to carry out the various Panchakarma \\nprocedures as per following details: MALE PANCHAKARMA SECTION FEMALE PANCHAKARMA \\nSECTION SPECIAL PRIVATE ROOM ARRANGEMENT O.P .DEPARTMENT DISPENSING AND \\nPHARMACY UNIT KITCHEN AND CANTEEN LABS FOR INVESTIGATION OFFICE AND RECORD \\nSECTION 86 1 Snehan Kaksha (Room) 14 ft x 12 ft 1 Swedan Kaksha (Room) 14 ft x 12 ft 1 Vasti \\nKaksha (Room) 10 ft x 10 ft 1 Shirodhara Kaksha (Room) 10 ft x10 ft 1 Snehan Kaksha (Room) \\n14 ft x 12 ft 1 Swedan Kaksha (Room) 14 ft x 12 ft 1 Vasti Kaksha (Room) 10 ft x 10 ft 1 \\nShirodhara Kaksha (Room) 10 ft x10 ft At least 4 300 sq. ft 400 sq. ft 800 sq. ft Routine \\nBiochemical and Hematological investigation As per requirement \\x00\\n10. 11. ANNEXURE - II STAFF REQUIRED FOR PANCHAKARMA SPECIALITY CENTER Medical \\nSuperintendent MD (Ay.) in Kayachikitsa (Panchakarma) With 10-12 years experience in the \\nprofession 1 Panchakarma specialist (Male) MD (Ay.) 1 Panchakarma specialist (Female) MD \\n(Ay.) 1 Resident Medical Officers 2 Male Masseurs (Panchakarma technicians) 4 Female'),\n",
       " Document(metadata={'producer': 'pdfmake', 'creator': 'pdfmake', 'creationdate': '2025-09-06T08:11:57+00:00', 'source': 'C:\\\\Code\\\\new_projects\\\\AyurSutra_Panchakarma_first\\\\Data\\\\pc1.pdf', 'total_pages': 18, 'page': 17, 'page_label': '18'}, page_content='Masseurs (Panchakarma technicians) 4 Staff nurses (Round the clock) 5 Kitchen staff 3 \\nCleaning services 4 Pharmacist 3 Record keeper 1 87 \\x00\\n10. 11. 12. 13. 14. 15. 16. 17. 18. SOME PANCHAKARMA CENTRES IN INDIA Central Government \\nHealth Scheme Ayurvedic Hospital, Lodhi Road, New Delhi. Central Research Institute for \\nPanchakarma, Cheruthuruthy, Kerala. Central Research Institute for Ayurveda, Road No. 66, \\nPunjabi Bagh, New Delhi. Dept. of Kayachikitsa, Faculty of Ayurveda, Institute of Medical \\nSciences, B.H.U., Varanasi. Government Ayurvedic College, Tripunithura. Government Ayurvedic \\nCollege, Trivandrum. Institute for Post Graduate Training and Research, Gujarat Ayurveda \\nUniversity, Jamnagar. Kerala Ayurveda Pharmacy and Nursing Home, Alwaye, Kerala. Keraleeya \\nAyurveda Samajam Shoranur, Kerala. Maniben Ayurveda Hospital, Ahmedabad. National Institute \\nof Ayurveda, Madhav Vilas, Amer Road, Jaipur, Rajasthan. Sitaram Ayurveda Health Centre, Press \\nclub Road, Trichur. Vaidyaratanam Aushadhasala & Nursing home Taikkattussay, Ollur Trichur \\nDist. Kerala. Vasudeva Vilasam Nursing Home, Trivandrum. Aryavaidyashala, Kottakala Post, \\nMallapuram Distt., Kerala. Holy Family Hospital, Okhala Road, Jamia Nagar, New Delhi. \\nMoolachand Khairati Ram Hospital, Lajapata Nagar, New Delhi. Aryavaidyashala Kottakala, \\nAyurvedic Hospital and Research Centre, 18X-19X, Institutional Area, Karkarduma, Delhi-110092. \\n88 \\x00\\nACKNOWLEDGEMENT We express our heartfelt gratitude to Dr. GS. Lavekar, Director General, \\nCCRAS for his valuable guidance and encouragement to complete this small piece of work. His \\nkind consideration for publishing this script has enabled the readers to get this knowledge. He \\nhas been a constant source of inspiration for accomplishing this job. He took personal interest in \\nthe photography required for the book. His time to time guidance, directions and support proved \\nto be a boon to us. We are highly indebted to Dr. M. M. Padhi, Deputy Director (tech) for his \\nvaluable support and suggestions given for the book and the photography. We also thank Dr. \\nPrem Kishore and Dr. G. Veluchamy, Former Directors, CCRAS, who inspired us to initiate this \\nwork and gave us guidelines to write this informative book. We thank Dr.M.M.Padhi (DDT), Dr. \\nSharda Ota RO (Ay), Dr. G. Venkateshwaralu RO (Ay) and Dr. M.M.Sharma RO (Ay) for editing this \\nbook. We also thank the Panchakarma staff of CRIA, New Delhi- Shri Nain Singh, Shri Kaanchhi \\nSingh, Smt. Dhanmati Rawat and Smt. Kanta Devi who rendered all help and support for \\nphotography. From: Dr. T. V. Menon Ex-Assistant Director (Ay.) Dr. (Mrs.) Bharti Assistant Director \\n(Ay.) 89')]"
      ]
     },
     "execution_count": 14,
     "metadata": {},
     "output_type": "execute_result"
    }
   ],
   "source": [
    "extracted_data"
   ]
  },
  {
   "cell_type": "code",
   "execution_count": 5,
   "id": "8c3404f5",
   "metadata": {},
   "outputs": [],
   "source": [
    "def text_split(extracted_data):\n",
    "    text_splitter= RecursiveCharacterTextSplitter(chunk_size=500, chunk_overlap=20)\n",
    "    text_chunks= text_splitter.split_documents(extracted_data)\n",
    "    return text_chunks"
   ]
  },
  {
   "cell_type": "code",
   "execution_count": 6,
   "id": "5c2423e5",
   "metadata": {},
   "outputs": [
    {
     "name": "stdout",
     "output_type": "stream",
     "text": [
      "Length of text chunks:  0\n"
     ]
    }
   ],
   "source": [
    "text_chunks=text_split(extracted_data)\n",
    "print(\"Length of text chunks: \", len(text_chunks))"
   ]
  },
  {
   "cell_type": "code",
   "execution_count": 41,
   "id": "ea1b3dd5",
   "metadata": {},
   "outputs": [],
   "source": [
    "from langchain.embeddings import HuggingFaceEmbeddings"
   ]
  },
  {
   "cell_type": "code",
   "execution_count": 42,
   "id": "8d2ff3fd",
   "metadata": {},
   "outputs": [],
   "source": [
    "def download_hugging_face_embeddings():\n",
    "    embeddings=HuggingFaceEmbeddings(model_name=\"sentence-transformers/all-MiniLM-L6-v2\")\n",
    "    return embeddings"
   ]
  },
  {
   "cell_type": "code",
   "execution_count": 48,
   "id": "9f4cde24",
   "metadata": {},
   "outputs": [],
   "source": [
    "#embeddings = download_hugging_face_embeddings()"
   ]
  },
  {
   "cell_type": "code",
   "execution_count": null,
   "id": "44cdd3c0",
   "metadata": {},
   "outputs": [
    {
     "name": "stdout",
     "output_type": "stream",
     "text": [
      "Requirement already satisfied: sentence-transformers in c:\\users\\busin\\anaconda3\\envs\\medibot\\lib\\site-packages (2.2.2)\n",
      "Requirement already satisfied: transformers<5.0.0,>=4.6.0 in c:\\users\\busin\\anaconda3\\envs\\medibot\\lib\\site-packages (from sentence-transformers) (4.56.0)\n",
      "Requirement already satisfied: tqdm in c:\\users\\busin\\anaconda3\\envs\\medibot\\lib\\site-packages (from sentence-transformers) (4.67.1)\n",
      "Requirement already satisfied: torch>=1.6.0 in c:\\users\\busin\\anaconda3\\envs\\medibot\\lib\\site-packages (from sentence-transformers) (2.8.0)\n",
      "Requirement already satisfied: torchvision in c:\\users\\busin\\anaconda3\\envs\\medibot\\lib\\site-packages (from sentence-transformers) (0.23.0)\n",
      "Requirement already satisfied: numpy in c:\\users\\busin\\anaconda3\\envs\\medibot\\lib\\site-packages (from sentence-transformers) (2.2.6)\n",
      "Requirement already satisfied: scikit-learn in c:\\users\\busin\\anaconda3\\envs\\medibot\\lib\\site-packages (from sentence-transformers) (1.7.1)\n",
      "Requirement already satisfied: scipy in c:\\users\\busin\\anaconda3\\envs\\medibot\\lib\\site-packages (from sentence-transformers) (1.15.3)\n",
      "Requirement already satisfied: nltk in c:\\users\\busin\\anaconda3\\envs\\medibot\\lib\\site-packages (from sentence-transformers) (3.9.1)\n",
      "Requirement already satisfied: sentencepiece in c:\\users\\busin\\anaconda3\\envs\\medibot\\lib\\site-packages (from sentence-transformers) (0.2.1)\n",
      "Requirement already satisfied: huggingface-hub>=0.4.0 in c:\\users\\busin\\anaconda3\\envs\\medibot\\lib\\site-packages (from sentence-transformers) (0.34.4)\n",
      "Requirement already satisfied: filelock in c:\\users\\busin\\anaconda3\\envs\\medibot\\lib\\site-packages (from transformers<5.0.0,>=4.6.0->sentence-transformers) (3.19.1)\n",
      "Requirement already satisfied: packaging>=20.0 in c:\\users\\busin\\anaconda3\\envs\\medibot\\lib\\site-packages (from transformers<5.0.0,>=4.6.0->sentence-transformers) (24.2)\n",
      "Requirement already satisfied: pyyaml>=5.1 in c:\\users\\busin\\anaconda3\\envs\\medibot\\lib\\site-packages (from transformers<5.0.0,>=4.6.0->sentence-transformers) (6.0.2)\n",
      "Requirement already satisfied: regex!=2019.12.17 in c:\\users\\busin\\anaconda3\\envs\\medibot\\lib\\site-packages (from transformers<5.0.0,>=4.6.0->sentence-transformers) (2025.9.1)\n",
      "Requirement already satisfied: requests in c:\\users\\busin\\anaconda3\\envs\\medibot\\lib\\site-packages (from transformers<5.0.0,>=4.6.0->sentence-transformers) (2.32.5)\n",
      "Requirement already satisfied: tokenizers<=0.23.0,>=0.22.0 in c:\\users\\busin\\anaconda3\\envs\\medibot\\lib\\site-packages (from transformers<5.0.0,>=4.6.0->sentence-transformers) (0.22.0)\n",
      "Requirement already satisfied: safetensors>=0.4.3 in c:\\users\\busin\\anaconda3\\envs\\medibot\\lib\\site-packages (from transformers<5.0.0,>=4.6.0->sentence-transformers) (0.6.2)\n",
      "Requirement already satisfied: fsspec>=2023.5.0 in c:\\users\\busin\\anaconda3\\envs\\medibot\\lib\\site-packages (from huggingface-hub>=0.4.0->sentence-transformers) (2025.7.0)\n",
      "Requirement already satisfied: typing-extensions>=3.7.4.3 in c:\\users\\busin\\anaconda3\\envs\\medibot\\lib\\site-packages (from huggingface-hub>=0.4.0->sentence-transformers) (4.15.0)\n",
      "Requirement already satisfied: sympy>=1.13.3 in c:\\users\\busin\\anaconda3\\envs\\medibot\\lib\\site-packages (from torch>=1.6.0->sentence-transformers) (1.14.0)\n",
      "Requirement already satisfied: networkx in c:\\users\\busin\\anaconda3\\envs\\medibot\\lib\\site-packages (from torch>=1.6.0->sentence-transformers) (3.4.2)\n",
      "Requirement already satisfied: jinja2 in c:\\users\\busin\\anaconda3\\envs\\medibot\\lib\\site-packages (from torch>=1.6.0->sentence-transformers) (3.1.6)\n",
      "Requirement already satisfied: mpmath<1.4,>=1.1.0 in c:\\users\\busin\\anaconda3\\envs\\medibot\\lib\\site-packages (from sympy>=1.13.3->torch>=1.6.0->sentence-transformers) (1.3.0)\n",
      "Requirement already satisfied: colorama in c:\\users\\busin\\anaconda3\\envs\\medibot\\lib\\site-packages (from tqdm->sentence-transformers) (0.4.6)\n",
      "Requirement already satisfied: MarkupSafe>=2.0 in c:\\users\\busin\\anaconda3\\envs\\medibot\\lib\\site-packages (from jinja2->torch>=1.6.0->sentence-transformers) (3.0.2)\n",
      "Requirement already satisfied: click in c:\\users\\busin\\anaconda3\\envs\\medibot\\lib\\site-packages (from nltk->sentence-transformers) (8.2.1)\n",
      "Requirement already satisfied: joblib in c:\\users\\busin\\anaconda3\\envs\\medibot\\lib\\site-packages (from nltk->sentence-transformers) (1.5.2)\n",
      "Requirement already satisfied: charset_normalizer<4,>=2 in c:\\users\\busin\\anaconda3\\envs\\medibot\\lib\\site-packages (from requests->transformers<5.0.0,>=4.6.0->sentence-transformers) (3.4.3)\n",
      "Requirement already satisfied: idna<4,>=2.5 in c:\\users\\busin\\anaconda3\\envs\\medibot\\lib\\site-packages (from requests->transformers<5.0.0,>=4.6.0->sentence-transformers) (3.10)\n",
      "Requirement already satisfied: urllib3<3,>=1.21.1 in c:\\users\\busin\\anaconda3\\envs\\medibot\\lib\\site-packages (from requests->transformers<5.0.0,>=4.6.0->sentence-transformers) (2.5.0)\n",
      "Requirement already satisfied: certifi>=2017.4.17 in c:\\users\\busin\\anaconda3\\envs\\medibot\\lib\\site-packages (from requests->transformers<5.0.0,>=4.6.0->sentence-transformers) (2025.8.3)\n",
      "Requirement already satisfied: threadpoolctl>=3.1.0 in c:\\users\\busin\\anaconda3\\envs\\medibot\\lib\\site-packages (from scikit-learn->sentence-transformers) (3.6.0)\n",
      "Requirement already satisfied: pillow!=8.3.*,>=5.3.0 in c:\\users\\busin\\anaconda3\\envs\\medibot\\lib\\site-packages (from torchvision->sentence-transformers) (11.3.0)\n",
      "Note: you may need to restart the kernel to use updated packages.\n"
     ]
    }
   ],
   "source": [
    "#pip install sentence-transformers"
   ]
  },
  {
   "cell_type": "code",
   "execution_count": 49,
   "id": "0e44121b",
   "metadata": {},
   "outputs": [],
   "source": [
    "embeddings = download_hugging_face_embeddings()"
   ]
  },
  {
   "cell_type": "code",
   "execution_count": 50,
   "id": "8fc21855",
   "metadata": {},
   "outputs": [
    {
     "name": "stdout",
     "output_type": "stream",
     "text": [
      "Length 384\n"
     ]
    }
   ],
   "source": [
    "query_result = embeddings.embed_query(\"Hello World\")\n",
    "print(\"Length\", len(query_result))"
   ]
  },
  {
   "cell_type": "code",
   "execution_count": 52,
   "id": "270cf469",
   "metadata": {},
   "outputs": [],
   "source": [
    "#query_result"
   ]
  },
  {
   "cell_type": "code",
   "execution_count": 62,
   "id": "4bd4f2d2",
   "metadata": {},
   "outputs": [
    {
     "name": "stdout",
     "output_type": "stream",
     "text": [
      "c:\\Code\\End-to-End-Medical-Chatbot\n"
     ]
    }
   ],
   "source": [
    "import os\n",
    "os.chdir(\"./End-to-End-Medical-Chatbot/\")\n",
    "print(os.getcwd())"
   ]
  },
  {
   "cell_type": "code",
   "execution_count": 90,
   "id": "653de473",
   "metadata": {},
   "outputs": [
    {
     "data": {
      "text/plain": [
       "True"
      ]
     },
     "execution_count": 90,
     "metadata": {},
     "output_type": "execute_result"
    }
   ],
   "source": [
    "from dotenv import load_dotenv\n",
    "load_dotenv()"
   ]
  },
  {
   "cell_type": "code",
   "execution_count": 91,
   "id": "2b98cc62",
   "metadata": {},
   "outputs": [],
   "source": [
    "PINECONE_API_KEY = os.environ.get(\"PINECONE_API_KEY\")\n",
    "OPENAI_API_KEY = os.environ.get(\"OPENAI_API_KEY\")\n",
    "GEMINI_API_KEY = os.environ.get(\"GEMINI_API_KEY\")"
   ]
  },
  {
   "cell_type": "code",
   "execution_count": 67,
   "id": "20e33f6c",
   "metadata": {},
   "outputs": [
    {
     "data": {
      "text/plain": [
       "{\n",
       "    \"name\": \"medicalbot\",\n",
       "    \"metric\": \"cosine\",\n",
       "    \"host\": \"medicalbot-1kgnu9z.svc.aped-4627-b74a.pinecone.io\",\n",
       "    \"spec\": {\n",
       "        \"serverless\": {\n",
       "            \"cloud\": \"aws\",\n",
       "            \"region\": \"us-east-1\"\n",
       "        }\n",
       "    },\n",
       "    \"status\": {\n",
       "        \"ready\": true,\n",
       "        \"state\": \"Ready\"\n",
       "    },\n",
       "    \"vector_type\": \"dense\",\n",
       "    \"dimension\": 384,\n",
       "    \"deletion_protection\": \"disabled\",\n",
       "    \"tags\": null\n",
       "}"
      ]
     },
     "execution_count": 67,
     "metadata": {},
     "output_type": "execute_result"
    }
   ],
   "source": [
    "from pinecone.grpc import PineconeGRPC as Pinecone\n",
    "from pinecone import ServerlessSpec\n",
    "import os\n",
    "\n",
    "pc = Pinecone(api_key=PINECONE_API_KEY)\n",
    "\n",
    "index_name = \"medicalbot\"\n",
    "\n",
    "pc.create_index(\n",
    "    name=index_name,\n",
    "    dimension=384,            \n",
    "    metric=\"cosine\",            \n",
    "    spec=ServerlessSpec(\n",
    "            cloud= \"aws\",     \n",
    "            region= \"us-east-1\"\n",
    "    )\n",
    ")"
   ]
  },
  {
   "cell_type": "code",
   "execution_count": 92,
   "id": "5ef568bd",
   "metadata": {},
   "outputs": [],
   "source": [
    "import os\n",
    "os.environ[\"PINECONE_API_KEY\"] = PINECONE_API_KEY\n",
    "os.environ[\"OPENAI_API_KEY\"] = OPENAI_API_KEY\n",
    "os.environ[\"GEMINI_API_KEY\"] = GEMINI_API_KEY"
   ]
  },
  {
   "cell_type": "code",
   "execution_count": 69,
   "id": "573acf8c",
   "metadata": {},
   "outputs": [],
   "source": [
    "from langchain_pinecone import PineconeVectorStore\n",
    "\n",
    "docsearch = PineconeVectorStore.from_documents(documents=text_chunks, index_name=index_name, embedding=embeddings)"
   ]
  },
  {
   "cell_type": "code",
   "execution_count": 70,
   "id": "65c39f5f",
   "metadata": {},
   "outputs": [],
   "source": [
    "from langchain_pinecone import PineconeVectorStore\n",
    "docsearch = PineconeVectorStore.from_existing_index(index_name=index_name, embedding=embeddings)"
   ]
  },
  {
   "cell_type": "code",
   "execution_count": 71,
   "id": "d51256fb",
   "metadata": {},
   "outputs": [
    {
     "data": {
      "text/plain": [
       "<langchain_pinecone.vectorstores.PineconeVectorStore at 0x205fa209b40>"
      ]
     },
     "execution_count": 71,
     "metadata": {},
     "output_type": "execute_result"
    }
   ],
   "source": [
    "docsearch"
   ]
  },
  {
   "cell_type": "code",
   "execution_count": 72,
   "id": "1c8646f8",
   "metadata": {},
   "outputs": [],
   "source": [
    "retriever = docsearch.as_retriever(search_type=\"similarity\", search_kwargs={\"k\":3})"
   ]
  },
  {
   "cell_type": "code",
   "execution_count": 73,
   "id": "49087eab",
   "metadata": {},
   "outputs": [],
   "source": [
    "retrieved_docs = retriever.invoke(\"What is Acne?\")"
   ]
  },
  {
   "cell_type": "code",
   "execution_count": 74,
   "id": "649686e1",
   "metadata": {},
   "outputs": [
    {
     "data": {
      "text/plain": [
       "[Document(id='3ef0804f-5c38-4667-b55e-d382d7c8fc66', metadata={'creationdate': '2004-12-18T17:00:02-05:00', 'creator': 'PyPDF', 'moddate': '2004-12-18T16:15:31-06:00', 'page': 39.0, 'page_label': '40', 'producer': 'PDFlib+PDI 5.0.0 (SunOS)', 'source': 'C:\\\\Code\\\\End-to-End-Medical-Chatbot\\\\Data\\\\Medical_book.pdf', 'total_pages': 637.0}, page_content='GALE ENCYCLOPEDIA OF MEDICINE 226\\nAcne\\nGEM - 0001 to 0432 - A  10/22/03 1:41 PM  Page 26'),\n",
       " Document(id='7a875e1b-ebd0-4b7b-8c36-8d75d01c6f78', metadata={'creationdate': '2004-12-18T17:00:02-05:00', 'creator': 'PyPDF', 'moddate': '2004-12-18T16:15:31-06:00', 'page': 38.0, 'page_label': '39', 'producer': 'PDFlib+PDI 5.0.0 (SunOS)', 'source': 'C:\\\\Code\\\\End-to-End-Medical-Chatbot\\\\Data\\\\Medical_book.pdf', 'total_pages': 637.0}, page_content='GALE ENCYCLOPEDIA OF MEDICINE 2 25\\nAcne\\nAcne vulgaris affecting a woman’s face. Acne is the general\\nname given to a skin disorder in which the sebaceous\\nglands become inflamed. (Photograph by Biophoto Associ-\\nates, Photo Researchers, Inc. Reproduced by permission.)\\nGEM - 0001 to 0432 - A  10/22/03 1:41 PM  Page 25'),\n",
       " Document(id='960f32cf-da3d-41e9-ad96-21a87c19d768', metadata={'creationdate': '2004-12-18T17:00:02-05:00', 'creator': 'PyPDF', 'moddate': '2004-12-18T16:15:31-06:00', 'page': 37.0, 'page_label': '38', 'producer': 'PDFlib+PDI 5.0.0 (SunOS)', 'source': 'C:\\\\Code\\\\End-to-End-Medical-Chatbot\\\\Data\\\\Medical_book.pdf', 'total_pages': 637.0}, page_content='Acidosis see Respiratory acidosis; Renal\\ntubular acidosis; Metabolic acidosis\\nAcne\\nDefinition\\nAcne is a common skin disease characterized by\\npimples on the face, chest, and back. It occurs when the\\npores of the skin become clogged with oil, dead skin\\ncells, and bacteria.\\nDescription\\nAcne vulgaris, the medical term for common acne, is\\nthe most common skin disease. It affects nearly 17 million\\npeople in the United States. While acne can arise at any')]"
      ]
     },
     "execution_count": 74,
     "metadata": {},
     "output_type": "execute_result"
    }
   ],
   "source": [
    "retrieved_docs"
   ]
  },
  {
   "cell_type": "code",
   "execution_count": 140,
   "id": "04643b46",
   "metadata": {},
   "outputs": [],
   "source": [
    "#from langchain_openai import OpenAI\n",
    "#llm = OpenAI(temperature=0.4, max_tokens=500)\n",
    "from langchain_google_genai import ChatGoogleGenerativeAI\n",
    "\n",
    "llm = ChatGoogleGenerativeAI(\n",
    "    model=\"gemini-1.5-flash\",\n",
    "    api_key= GEMINI_API_KEY,  # or gemini-1.5-flash for faster/lighter\n",
    "    temperature=0.4,\n",
    "    max_output_tokens=500\n",
    ")"
   ]
  },
  {
   "cell_type": "code",
   "execution_count": 142,
   "id": "c9eb4c57",
   "metadata": {},
   "outputs": [],
   "source": [
    "from langchain.chains import create_retrieval_chain\n",
    "from langchain.chains.combine_documents import create_stuff_documents_chain\n",
    "from langchain_core.prompts import ChatPromptTemplate\n",
    "\n",
    "system_prompt = (\n",
    "    \"You are an assistant for question-answering tasks. \"\n",
    "    \"Use the following pieces of retrieved context to answer \"\n",
    "    \"the question. If you don't know the answer, say that you \"\n",
    "    \"don't know. keep the \"\n",
    "    \"answer concise.\"\n",
    "    \"\\n\\n\"\n",
    "    \"{context}\\n\\n\"\n",
    "    \"Final Answer:\"\n",
    ")\n",
    "\n",
    "prompt = ChatPromptTemplate.from_messages(\n",
    "    [\n",
    "        (\"system\", system_prompt),\n",
    "        (\"user\", \"{input}\"),\n",
    "    ]\n",
    ")"
   ]
  },
  {
   "cell_type": "code",
   "execution_count": 147,
   "id": "5b2d7822",
   "metadata": {},
   "outputs": [],
   "source": [
    "question_answer_chain = create_stuff_documents_chain(llm, prompt)\n",
    "rag_chain = create_retrieval_chain(retriever, question_answer_chain)"
   ]
  },
  {
   "cell_type": "code",
   "execution_count": 148,
   "id": "beb103b2",
   "metadata": {},
   "outputs": [
    {
     "name": "stdout",
     "output_type": "stream",
     "text": [
      "Acne is a common skin disease characterized by pimples on the face, chest, and back.  It occurs when skin pores become clogged with oil, dead skin cells, and bacteria.  Acne vulgaris is the medical term for common acne.\n"
     ]
    }
   ],
   "source": [
    "response = rag_chain.invoke({\"input\": \"What is Acne?\"})\n",
    "print(response[\"answer\"])"
   ]
  },
  {
   "cell_type": "code",
   "execution_count": 145,
   "id": "b1f4f289",
   "metadata": {},
   "outputs": [
    {
     "name": "stdout",
     "output_type": "stream",
     "text": [
      "Based on the provided text, there is no information about \"stats\".  I don't know.\n"
     ]
    }
   ],
   "source": [
    "response = rag_chain.invoke({\"input\": \"What is stats?\"})\n",
    "print(response[\"answer\"])"
   ]
  },
  {
   "cell_type": "code",
   "execution_count": 146,
   "id": "74f9d741",
   "metadata": {},
   "outputs": [
    {
     "name": "stdout",
     "output_type": "stream",
     "text": [
      "Acromegaly and gigantism are disorders caused by an abnormal release of a chemical from the pituitary gland, leading to increased bone and soft tissue growth.  Gigantism occurs before bone growth stops, resulting in unusual height. Acromegaly occurs after bone growth stops, causing other symptoms.\n"
     ]
    }
   ],
   "source": [
    "response = rag_chain.invoke({\"input\": \"What is Acromegaly and gigantism?\"})\n",
    "print(response[\"answer\"])"
   ]
  }
 ],
 "metadata": {
  "kernelspec": {
   "display_name": "ayurvedbot",
   "language": "python",
   "name": "python3"
  },
  "language_info": {
   "codemirror_mode": {
    "name": "ipython",
    "version": 3
   },
   "file_extension": ".py",
   "mimetype": "text/x-python",
   "name": "python",
   "nbconvert_exporter": "python",
   "pygments_lexer": "ipython3",
   "version": "3.10.18"
  }
 },
 "nbformat": 4,
 "nbformat_minor": 5
}
